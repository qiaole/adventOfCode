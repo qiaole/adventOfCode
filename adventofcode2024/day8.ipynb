{
 "cells": [
  {
   "metadata": {
    "ExecuteTime": {
     "end_time": "2024-12-10T13:39:58.333102Z",
     "start_time": "2024-12-10T13:39:58.316528Z"
    }
   },
   "cell_type": "code",
   "source": "from collections import defaultdict",
   "id": "71581b4818acc985",
   "outputs": [],
   "execution_count": 1
  },
  {
   "cell_type": "code",
   "id": "initial_id",
   "metadata": {
    "collapsed": true,
    "ExecuteTime": {
     "end_time": "2024-12-10T13:39:59.127769Z",
     "start_time": "2024-12-10T13:39:59.122700Z"
    }
   },
   "source": [
    "def get_input(path):\n",
    "    with open(path, 'r', encoding=\"utf-8\") as f:\n",
    "\n",
    "        raw_lines = f.readlines()\n",
    "    lines = [x[:-1].split() for x in raw_lines]\n",
    "    lines = [[x for x in y[0]] for y in lines]\n",
    "    return lines\n"
   ],
   "outputs": [],
   "execution_count": 2
  },
  {
   "metadata": {
    "ExecuteTime": {
     "end_time": "2024-12-10T13:39:59.678338Z",
     "start_time": "2024-12-10T13:39:59.673033Z"
    }
   },
   "cell_type": "code",
   "source": [
    "def read_the_map(input_data):\n",
    "    map = []\n",
    "    for i in range(len(input_data)):\n",
    "        for j in range(len(input_data[0])):\n",
    "            if input_data[i][j] not in  ['.' , '#']:\n",
    "                map.append([input_data[i][j], [i, j]])\n",
    "    return map"
   ],
   "id": "b70fc72ab71598b5",
   "outputs": [],
   "execution_count": 3
  },
  {
   "metadata": {
    "ExecuteTime": {
     "end_time": "2024-12-10T13:40:00.135422Z",
     "start_time": "2024-12-10T13:40:00.131149Z"
    }
   },
   "cell_type": "code",
   "source": [
    "def group_antenna_positions(input_data):\n",
    "    map = read_the_map(input_data)\n",
    "    grouped_data = defaultdict(list)\n",
    "    for i in range(len(map)):\n",
    "        grouped_data[map[i][0]].append(map[i][1])\n",
    "    return grouped_data\n"
   ],
   "id": "7f978b11e54b7cbe",
   "outputs": [],
   "execution_count": 4
  },
  {
   "metadata": {
    "ExecuteTime": {
     "end_time": "2024-12-10T13:40:00.828246Z",
     "start_time": "2024-12-10T13:40:00.823597Z"
    }
   },
   "cell_type": "code",
   "source": [
    "def unique_antinode_positions(antenna_position_list, board_size_x, board_size_y):\n",
    "    result = []\n",
    "    for i in range(len(antenna_position_list)-1):\n",
    "        for j in range(i+1, len(antenna_position_list)):\n",
    "            result += get_atinode_positions_from_a_pair(antenna_position_list[i], antenna_position_list[j], board_size_x, board_size_y)\n",
    "    return result"
   ],
   "id": "e13477715adec75",
   "outputs": [],
   "execution_count": 5
  },
  {
   "metadata": {
    "ExecuteTime": {
     "end_time": "2024-12-10T13:40:01.370941Z",
     "start_time": "2024-12-10T13:40:01.364825Z"
    }
   },
   "cell_type": "code",
   "source": [
    "def get_atinode_positions_from_a_pair(point_a, point_b, board_size_x, board_size_y):\n",
    "    if point_a[0] == point_b[0]:\n",
    "        return [[point_a[0], point_a[1]*2-point_b[1]],[point_a[0], point_b[1]*2-point_a[1]]]\n",
    "    else:\n",
    "        k = (point_b[1]-point_a[1])/(point_b[0]-point_a[0])\n",
    "        b = point_a[1] - k*point_a[0]\n",
    "        x1 = point_a[0]*2-point_b[0]\n",
    "        x2 = point_b[0]*2-point_a[0]\n",
    "        y1 = round(k*x1+b)\n",
    "        y2 = round(k*x2+b)\n",
    "        return [[x1,y1],[x2,y2]]\n"
   ],
   "id": "2d5eda394a913ca9",
   "outputs": [],
   "execution_count": 6
  },
  {
   "metadata": {
    "ExecuteTime": {
     "end_time": "2024-12-10T13:40:02.106722Z",
     "start_time": "2024-12-10T13:40:02.103781Z"
    }
   },
   "cell_type": "code",
   "source": "",
   "id": "f8f05dfa490c4ce0",
   "outputs": [],
   "execution_count": null
  },
  {
   "metadata": {
    "ExecuteTime": {
     "end_time": "2024-12-10T13:40:02.906086Z",
     "start_time": "2024-12-10T13:40:02.900310Z"
    }
   },
   "cell_type": "code",
   "source": [
    "def get_all_antinode_positions(grouped_positions, x, y):\n",
    "    result = set()\n",
    "    for key, positions in grouped_positions.items():\n",
    "        if len(positions)>1:\n",
    "            unique_positions = unique_antinode_positions(positions, x, y)\n",
    "            for pos in unique_positions:\n",
    "                if pos[0] >=0 and pos[0] <x and pos[1]>=0 and pos[1]<y:\n",
    "                    result.add(tuple(pos))\n",
    "                    # print('get_all_antinode_positions:', key, pos)\n",
    "    return len(result)\n"
   ],
   "id": "d12d6bd72ab9c5d3",
   "outputs": [],
   "execution_count": 7
  },
  {
   "metadata": {
    "ExecuteTime": {
     "end_time": "2024-12-10T13:40:04.269395Z",
     "start_time": "2024-12-10T13:40:04.264384Z"
    }
   },
   "cell_type": "code",
   "source": [
    "input_data = get_input('inputs/day8_ex1.txt')\n",
    "grouped_positions = group_antenna_positions(input_data)\n",
    "\n"
   ],
   "id": "84387ecc1fd5159f",
   "outputs": [],
   "execution_count": 8
  },
  {
   "metadata": {
    "ExecuteTime": {
     "end_time": "2024-12-10T13:40:05.717661Z",
     "start_time": "2024-12-10T13:40:05.712688Z"
    }
   },
   "cell_type": "code",
   "source": "print(\"final result part 1\", get_all_antinode_positions(grouped_positions, len(input_data), len(input_data[0])))\n",
   "id": "5d07fcbff2ef6afc",
   "outputs": [
    {
     "name": "stdout",
     "output_type": "stream",
     "text": [
      "final result part 1 273\n"
     ]
    }
   ],
   "execution_count": 9
  },
  {
   "metadata": {
    "ExecuteTime": {
     "end_time": "2024-12-10T13:40:07.066897Z",
     "start_time": "2024-12-10T13:40:07.051334Z"
    }
   },
   "cell_type": "code",
   "source": [
    "def get_atinode_positions_from_a_pair(point_a, point_b, board_size_x, board_size_y):\n",
    "    dx = point_b[0]-point_a[0]\n",
    "    dy = point_b[1]-point_a[1]\n",
    "    result = [point_a, point_b]\n",
    "    if point_a[0] == point_b[0]:\n",
    "        i = 1\n",
    "        while point_a[1]-i*dy < board_size_y and point_a[1]-i*dy >=0:\n",
    "            x = point_a[0]\n",
    "            y = point_a[1]-i*dy\n",
    "            result += [[x,y]]\n",
    "            i += 1\n",
    "        i = 1\n",
    "        while point_b[1]+i*dy >=0 and point_b[1]+i*dy < board_size_y:\n",
    "            x = point_a[0]\n",
    "            y = point_b[1]+i*dy\n",
    "            result += [[x,y]]\n",
    "            i += 1\n",
    "        return result\n",
    "    else:\n",
    "        k = (point_b[1]-point_a[1])/(point_b[0]-point_a[0])\n",
    "        b = point_a[1] - k*point_a[0]\n",
    "        i = 1\n",
    "        while point_a[0]-i*dx < board_size_x and point_a[0]-i*dx >=0:\n",
    "            x = point_a[0]-i*dx\n",
    "            y = round(k*x+b)\n",
    "            if y>=0 and y<board_size_y:\n",
    "                result = result +[[x,y]]\n",
    "            i += 1\n",
    "        i = 1\n",
    "        while point_b[0]+i*dx >=0 and point_b[0]+i*dx < board_size_x:\n",
    "            x = point_b[0]+i*dx\n",
    "            y = round(k*x+b)\n",
    "            if y>=0 and y<board_size_y:\n",
    "                result = result +[[x,y]]\n",
    "            i += 1\n",
    "        return result\n",
    "\n",
    "print(\"final result part 2\", get_all_antinode_positions(grouped_positions, len(input_data), len(input_data[0])))\n"
   ],
   "id": "416fc4b2a08b80db",
   "outputs": [
    {
     "name": "stdout",
     "output_type": "stream",
     "text": [
      "final result part 2 1017\n"
     ]
    }
   ],
   "execution_count": 10
  },
  {
   "metadata": {},
   "cell_type": "code",
   "outputs": [],
   "execution_count": null,
   "source": "",
   "id": "37c311e11eba6dc9"
  }
 ],
 "metadata": {
  "kernelspec": {
   "display_name": "Python 3",
   "language": "python",
   "name": "python3"
  },
  "language_info": {
   "codemirror_mode": {
    "name": "ipython",
    "version": 2
   },
   "file_extension": ".py",
   "mimetype": "text/x-python",
   "name": "python",
   "nbconvert_exporter": "python",
   "pygments_lexer": "ipython2",
   "version": "2.7.6"
  }
 },
 "nbformat": 4,
 "nbformat_minor": 5
}
