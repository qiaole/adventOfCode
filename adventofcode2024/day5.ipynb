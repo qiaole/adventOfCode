{
 "cells": [
  {
   "cell_type": "code",
   "id": "initial_id",
   "metadata": {
    "collapsed": true,
    "ExecuteTime": {
     "end_time": "2024-12-05T14:33:17.111749Z",
     "start_time": "2024-12-05T14:33:17.095832Z"
    }
   },
   "source": [
    "from collections import defaultdict\n",
    "\n",
    "def read_input_first_part(file_path):\n",
    "    grouped_data = defaultdict(set)\n",
    "\n",
    "    with open(file_path, 'r') as file:\n",
    "        for line in file:\n",
    "            if '|' in line:\n",
    "                left, right = line.strip().split('|')\n",
    "                grouped_data[int(right)].add(int(left))\n",
    "\n",
    "    return {key: sorted(value) for key, value in grouped_data.items()}\n",
    "\n",
    "file_path = 'inputs/day5_ex1_1.txt'\n",
    "\n",
    "result_dict = read_input_first_part(file_path)\n"
   ],
   "outputs": [],
   "execution_count": 1
  },
  {
   "metadata": {
    "ExecuteTime": {
     "end_time": "2024-12-05T14:33:30.891022Z",
     "start_time": "2024-12-05T14:33:30.884265Z"
    }
   },
   "cell_type": "code",
   "source": [
    "with open('inputs/day5_ex1_2.txt', 'r', encoding=\"utf-8\") as f:\n",
    "\n",
    "    raw_lines = f.readlines()\n",
    "lines1 = [x[:-1].split(',') for x in raw_lines]\n",
    "lines1 = [[int(x) for x in sublist] for sublist in lines1]"
   ],
   "id": "c78153e368871b27",
   "outputs": [],
   "execution_count": 2
  },
  {
   "metadata": {
    "ExecuteTime": {
     "end_time": "2024-12-05T14:33:32.289667Z",
     "start_time": "2024-12-05T14:33:32.284390Z"
    }
   },
   "cell_type": "code",
   "source": [
    "def check_one_line(line, result_dict):\n",
    "    state = True\n",
    "    for i in range(0, len(line)):\n",
    "        if line[i] in result_dict:\n",
    "            value_needs_to_be_before = result_dict[line[i]]\n",
    "            if bool(set(line[i+1:]).intersection(value_needs_to_be_before)):\n",
    "                state = False\n",
    "                return state\n",
    "    return state"
   ],
   "id": "98bcfa4ed97906a1",
   "outputs": [],
   "execution_count": 3
  },
  {
   "metadata": {
    "ExecuteTime": {
     "end_time": "2024-12-05T14:33:32.793856Z",
     "start_time": "2024-12-05T14:33:32.790458Z"
    }
   },
   "cell_type": "code",
   "source": [
    "def find_middle_element(lst):\n",
    "    middle_index = len(lst) // 2\n",
    "    return lst[middle_index]"
   ],
   "id": "caf649f255e7ce4",
   "outputs": [],
   "execution_count": 4
  },
  {
   "metadata": {
    "ExecuteTime": {
     "end_time": "2024-12-05T14:33:33.262519Z",
     "start_time": "2024-12-05T14:33:33.249664Z"
    }
   },
   "cell_type": "code",
   "source": [
    "def check_all_lines(lines, result_dict):\n",
    "    result = 0\n",
    "    for line in lines:\n",
    "        if check_one_line(line, result_dict):\n",
    "            result += find_middle_element(line)\n",
    "    return result\n",
    "\n",
    "check_all_lines(lines1, result_dict)\n",
    "\n"
   ],
   "id": "c0a95390bbd6ba71",
   "outputs": [
    {
     "data": {
      "text/plain": [
       "4814"
      ]
     },
     "execution_count": 5,
     "metadata": {},
     "output_type": "execute_result"
    }
   ],
   "execution_count": 5
  },
  {
   "metadata": {
    "ExecuteTime": {
     "end_time": "2024-12-05T14:33:34.579658Z",
     "start_time": "2024-12-05T14:33:34.576434Z"
    }
   },
   "cell_type": "code",
   "source": "",
   "id": "2e20434f1b429a66",
   "outputs": [],
   "execution_count": null
  },
  {
   "metadata": {},
   "cell_type": "markdown",
   "source": "part 2",
   "id": "14f8203cddabcd60"
  },
  {
   "metadata": {
    "ExecuteTime": {
     "end_time": "2024-12-05T14:33:37.198042Z",
     "start_time": "2024-12-05T14:33:37.190665Z"
    }
   },
   "cell_type": "code",
   "source": [
    "def order_bad_line(line, result_dict):\n",
    "    from collections import deque, defaultdict\n",
    "\n",
    "    # Create a graph and in-degree count\n",
    "    graph = defaultdict(list)\n",
    "    in_degree = defaultdict(int)\n",
    "    for value in line:\n",
    "        if value in result_dict:\n",
    "            for dep in result_dict[value]:\n",
    "                if dep in line:\n",
    "                    graph[dep].append(value)\n",
    "                    in_degree[value] += 1\n",
    "\n",
    "    # Initialize the queue with nodes having zero in-degree\n",
    "    queue = deque([value for value in line if in_degree[value] == 0])\n",
    "    ordered_line = []\n",
    "\n",
    "    while queue:\n",
    "        current = queue.popleft()\n",
    "        ordered_line.append(current)\n",
    "        for neighbor in graph[current]:\n",
    "            in_degree[neighbor] -= 1\n",
    "            if in_degree[neighbor] == 0:\n",
    "                queue.append(neighbor)\n",
    "\n",
    "    return ordered_line"
   ],
   "id": "c73eafad9bb8e58",
   "outputs": [],
   "execution_count": 6
  },
  {
   "metadata": {
    "ExecuteTime": {
     "end_time": "2024-12-05T14:33:38.452672Z",
     "start_time": "2024-12-05T14:33:38.429321Z"
    }
   },
   "cell_type": "code",
   "source": [
    "def part_2(lines, result_dict):\n",
    "    result = 0\n",
    "    for line in lines:\n",
    "        if not check_one_line(line, result_dict):\n",
    "            ordered_line = order_bad_line(line, result_dict)\n",
    "            result += find_middle_element(ordered_line)\n",
    "    return result\n",
    "\n",
    "part_2(lines1, result_dict)"
   ],
   "id": "f5094d2cd9fab44c",
   "outputs": [
    {
     "data": {
      "text/plain": [
       "5448"
      ]
     },
     "execution_count": 7,
     "metadata": {},
     "output_type": "execute_result"
    }
   ],
   "execution_count": 7
  }
 ],
 "metadata": {
  "kernelspec": {
   "display_name": "Python 3",
   "language": "python",
   "name": "python3"
  },
  "language_info": {
   "codemirror_mode": {
    "name": "ipython",
    "version": 2
   },
   "file_extension": ".py",
   "mimetype": "text/x-python",
   "name": "python",
   "nbconvert_exporter": "python",
   "pygments_lexer": "ipython2",
   "version": "2.7.6"
  }
 },
 "nbformat": 4,
 "nbformat_minor": 5
}
