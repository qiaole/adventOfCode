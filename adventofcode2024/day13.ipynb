{
 "cells": [
  {
   "metadata": {
    "ExecuteTime": {
     "end_time": "2024-12-13T10:02:04.232649Z",
     "start_time": "2024-12-13T10:02:04.217995Z"
    }
   },
   "cell_type": "code",
   "source": [
    "def extract_values(file_path):\n",
    "    with open(file_path, 'r', encoding='utf-8') as file:\n",
    "        lines = file.readlines()\n",
    "\n",
    "    # Extract values from all sections\n",
    "    all_values = []\n",
    "    for i in range(0, len(lines), 4):\n",
    "        values = []\n",
    "        for line in lines[i:i+3]:\n",
    "            parts = line.split(':')\n",
    "            if len(parts) > 1:\n",
    "                # Clean the string and extract integers\n",
    "                cleaned_parts = parts[1].replace('X+', '').replace('Y+', '').replace('=', '').replace('X', '').replace('Y', '').split(',')\n",
    "                values.extend(map(int, [part.strip() for part in cleaned_parts]))\n",
    "        all_values.append(values)\n",
    "\n",
    "    return all_values\n"
   ],
   "id": "650276cdb3b213f2",
   "outputs": [],
   "execution_count": 1
  },
  {
   "metadata": {
    "ExecuteTime": {
     "end_time": "2024-12-13T10:02:04.932207Z",
     "start_time": "2024-12-13T10:02:04.918302Z"
    }
   },
   "cell_type": "code",
   "source": [
    "def get_result(input_list):\n",
    "    denominator = input_list[0] * input_list[3] - input_list[1] * input_list[2]\n",
    "    if denominator == 0:\n",
    "        return 0\n",
    "    else:\n",
    "        m = (input_list[4] * input_list[3] - input_list[5] * input_list[2]) / denominator\n",
    "        n = (input_list[5] * input_list[0] - input_list[4] * input_list[1]) / denominator\n",
    "        if m.is_integer() and n.is_integer():\n",
    "            return 3*m+n\n",
    "        else:\n",
    "            return 0\n",
    "\n",
    "\n",
    "def check_all(results):\n",
    "    total = 0\n",
    "    for result in results:\n",
    "        total += get_result(result)\n",
    "    return total"
   ],
   "id": "b5274f388e052ed",
   "outputs": [],
   "execution_count": 2
  },
  {
   "metadata": {
    "ExecuteTime": {
     "end_time": "2024-12-13T10:02:06.056854Z",
     "start_time": "2024-12-13T10:02:06.047528Z"
    }
   },
   "cell_type": "code",
   "source": [
    "def add_values(input_data):\n",
    "    for sublist in input_data:\n",
    "        sublist[-2] += 10000000000000\n",
    "        sublist[-1] += 10000000000000\n",
    "    return input_data\n",
    "\n",
    "file_path = 'inputs/day13_ex1.txt'\n",
    "input_data = extract_values(file_path)\n",
    "\n",
    "print('part 1:', check_all(input_data))\n",
    "print('part 2:', check_all(add_values(input_data)))\n"
   ],
   "id": "eaf6dab7c3b54b4d",
   "outputs": [
    {
     "name": "stdout",
     "output_type": "stream",
     "text": [
      "part 1: 28059.0\n",
      "part 2: 102255878088512.0\n"
     ]
    }
   ],
   "execution_count": 3
  },
  {
   "metadata": {},
   "cell_type": "code",
   "outputs": [],
   "execution_count": null,
   "source": "",
   "id": "4eb96dc85789d36b"
  }
 ],
 "metadata": {
  "kernelspec": {
   "display_name": "cow_3_10",
   "language": "python",
   "name": "cow_3_10"
  },
  "language_info": {
   "codemirror_mode": {
    "name": "ipython",
    "version": 2
   },
   "file_extension": ".py",
   "mimetype": "text/x-python",
   "name": "python",
   "nbconvert_exporter": "python",
   "pygments_lexer": "ipython2",
   "version": "2.7.6"
  }
 },
 "nbformat": 4,
 "nbformat_minor": 5
}
