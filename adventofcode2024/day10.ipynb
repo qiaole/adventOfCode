{
 "cells": [
  {
   "cell_type": "code",
   "id": "initial_id",
   "metadata": {
    "collapsed": true,
    "ExecuteTime": {
     "end_time": "2024-12-10T21:43:19.263233Z",
     "start_time": "2024-12-10T21:43:19.251353Z"
    }
   },
   "source": [
    "def get_input(path):\n",
    "    with open(path, 'r', encoding=\"utf-8\") as f:\n",
    "\n",
    "        raw_lines = f.readlines()\n",
    "    lines = [x[:-1].split() for x in raw_lines]\n",
    "    lines = [[int(x) for x in y[0]] for y in lines]\n",
    "    return lines\n",
    "\n"
   ],
   "outputs": [],
   "execution_count": 1
  },
  {
   "metadata": {
    "ExecuteTime": {
     "end_time": "2024-12-10T21:43:22.049596Z",
     "start_time": "2024-12-10T21:43:22.045328Z"
    }
   },
   "cell_type": "code",
   "source": [
    "def read_possible_trail_head(input_data):\n",
    "    map = []\n",
    "    for i in range(len(input_data)):\n",
    "        for j in range(len(input_data[0])):\n",
    "            if input_data[i][j] == 0:\n",
    "                map.append([i, j])\n",
    "    return map\n",
    "\n"
   ],
   "id": "8f5755fac6315559",
   "outputs": [],
   "execution_count": 2
  },
  {
   "metadata": {
    "ExecuteTime": {
     "end_time": "2024-12-10T21:43:22.582473Z",
     "start_time": "2024-12-10T21:43:22.576782Z"
    }
   },
   "cell_type": "code",
   "source": [
    "def get_adjacent_position_in_the_board(position, board_size_x, board_size_y):\n",
    "    x = position[0]\n",
    "    y = position[1]\n",
    "    result = []\n",
    "    if x-1 >= 0:\n",
    "        result.append([x-1, y])\n",
    "    if x+1 < board_size_x:\n",
    "        result.append([x+1, y])\n",
    "    if y-1 >= 0:\n",
    "        result.append([x, y-1])\n",
    "    if y+1 < board_size_y:\n",
    "        result.append([x, y+1])\n",
    "    return result"
   ],
   "id": "69d4979a4d14600e",
   "outputs": [],
   "execution_count": 3
  },
  {
   "metadata": {
    "ExecuteTime": {
     "end_time": "2024-12-10T21:43:22.958223Z",
     "start_time": "2024-12-10T21:43:22.947365Z"
    }
   },
   "cell_type": "code",
   "source": [
    "def check_if_surrounding_value_is_1_bigger_than_input(input_data, position, final_position, trails):\n",
    "    i = position[0]\n",
    "    j = position[1]\n",
    "    if input_data[i][j] == 9:\n",
    "        final_position.add((i,j))\n",
    "        trails.append((i,j))\n",
    "        return\n",
    "    adjacent_positions = get_adjacent_position_in_the_board(position, len(input_data), len(input_data[0]))\n",
    "    for adj_pos in adjacent_positions:\n",
    "        if input_data[adj_pos[0]][adj_pos[1]] == input_data[i][j] + 1:\n",
    "            check_if_surrounding_value_is_1_bigger_than_input(\n",
    "                input_data, adj_pos, final_position, trails)\n"
   ],
   "id": "381c790aacc84a67",
   "outputs": [],
   "execution_count": 4
  },
  {
   "metadata": {
    "ExecuteTime": {
     "end_time": "2024-12-10T21:43:23.442172Z",
     "start_time": "2024-12-10T21:43:23.435765Z"
    }
   },
   "cell_type": "code",
   "source": [
    "\n",
    "def find_a_trail(input_data, trail_head):\n",
    "    result = 0\n",
    "    final_position = []\n",
    "    all_trail = []\n",
    "    for single_head in trail_head:\n",
    "        single_head_set = set()\n",
    "        check_if_surrounding_value_is_1_bigger_than_input(input_data, single_head, single_head_set, all_trail)\n",
    "        final_position.append(single_head_set)\n",
    "        result += len(single_head_set)\n",
    "    print(\"part 1: \", result)\n",
    "    print(\"part 2: \", len(all_trail))\n",
    "\n",
    "\n"
   ],
   "id": "3e92507384c12c45",
   "outputs": [],
   "execution_count": 5
  },
  {
   "metadata": {
    "ExecuteTime": {
     "end_time": "2024-12-10T21:43:23.863073Z",
     "start_time": "2024-12-10T21:43:23.842842Z"
    }
   },
   "cell_type": "code",
   "source": [
    "input_data = get_input('inputs/day9_ex1.txt')\n",
    "possible_trail_head = read_possible_trail_head(input_data)\n",
    "\n",
    "find_a_trail(input_data, possible_trail_head)"
   ],
   "id": "c874710b7839d32",
   "outputs": [
    {
     "name": "stdout",
     "output_type": "stream",
     "text": [
      "part 1:  629\n",
      "part 2:  1242\n"
     ]
    }
   ],
   "execution_count": 6
  },
  {
   "metadata": {},
   "cell_type": "code",
   "outputs": [],
   "execution_count": null,
   "source": "",
   "id": "18135c260cee1857"
  }
 ],
 "metadata": {
  "kernelspec": {
   "display_name": "Python 3",
   "language": "python",
   "name": "python3"
  },
  "language_info": {
   "codemirror_mode": {
    "name": "ipython",
    "version": 2
   },
   "file_extension": ".py",
   "mimetype": "text/x-python",
   "name": "python",
   "nbconvert_exporter": "python",
   "pygments_lexer": "ipython2",
   "version": "2.7.6"
  }
 },
 "nbformat": 4,
 "nbformat_minor": 5
}
