{
 "cells": [
  {
   "metadata": {},
   "cell_type": "markdown",
   "source": "part 1"
  },
  {
   "cell_type": "code",
   "metadata": {
    "ExecuteTime": {
     "end_time": "2024-12-04T09:11:35.358352Z",
     "start_time": "2024-12-04T09:11:35.351299Z"
    }
   },
   "source": [
    "with open('inputs/day4_ex1.txt', 'r', encoding=\"utf-8\") as f:\n",
    "\n",
    "    raw_lines = f.readlines()\n",
    "lines = [x[:-1] for x in raw_lines]\n"
   ],
   "outputs": [],
   "execution_count": 64
  },
  {
   "cell_type": "code",
   "metadata": {
    "ExecuteTime": {
     "end_time": "2024-12-04T09:11:35.894868Z",
     "start_time": "2024-12-04T09:11:35.889817Z"
    }
   },
   "source": [
    "def convert_to_matrix(input_list):\n",
    "    matrix = [list(row) for row in input_list]\n",
    "    return matrix\n",
    "\n",
    "matrix = convert_to_matrix(lines)"
   ],
   "outputs": [],
   "execution_count": 65
  },
  {
   "cell_type": "code",
   "metadata": {
    "ExecuteTime": {
     "end_time": "2024-12-04T08:49:16.639418Z",
     "start_time": "2024-12-04T08:49:16.634042Z"
    }
   },
   "source": [
    "def invert_rows(matrix):\n",
    "    inverted_matrix = [row[::-1] for row in matrix]\n",
    "    return inverted_matrix\n",
    "\n",
    "def transpose_matrix(matrix):\n",
    "    transposed = [[row[i] for row in matrix] for i in range(len(matrix[0]))]\n",
    "    return transposed\n"
   ],
   "outputs": [],
   "execution_count": 43
  },
  {
   "cell_type": "code",
   "metadata": {
    "ExecuteTime": {
     "end_time": "2024-12-04T08:49:28.585999Z",
     "start_time": "2024-12-04T08:49:28.560090Z"
    }
   },
   "source": [
    "def get_all_diagonals(matrix):\n",
    "    rows = len(matrix)\n",
    "    cols = len(matrix[0])\n",
    "    \n",
    "    # List to store all diagonals\n",
    "    diagonals_main = []  # Diagonals parallel to the main diagonal\n",
    "    diagonals_anti = []  # Diagonals parallel to the anti-diagonal\n",
    "\n",
    "    # Extract diagonals parallel to the main diagonal\n",
    "    # From top-left to bottom-right\n",
    "    for d in range(rows + cols - 1):\n",
    "        diagonal_main = []\n",
    "        for row in range(rows):\n",
    "            col = d - row\n",
    "            if 0 <= col < cols:\n",
    "                diagonal_main.append(matrix[row][col])\n",
    "        if diagonal_main:\n",
    "            diagonals_main.append(diagonal_main)\n",
    "\n",
    "    # Extract diagonals parallel to the anti-diagonal\n",
    "    # From top-right to bottom-left\n",
    "    for d in range(rows + cols - 1):\n",
    "        diagonal_anti = []\n",
    "        for row in range(rows):\n",
    "            col = row - (d - (cols - 1))\n",
    "            if 0 <= col < cols:\n",
    "                diagonal_anti.append(matrix[row][col])\n",
    "        if diagonal_anti:\n",
    "            diagonals_anti.append(diagonal_anti)\n",
    "\n",
    "    return diagonals_main, diagonals_anti\n",
    "\n",
    "\n",
    "# Get all diagonals\n",
    "diagonals_main, diagonals_anti = get_all_diagonals(matrix)\n"
   ],
   "outputs": [],
   "execution_count": 44
  },
  {
   "cell_type": "code",
   "metadata": {
    "ExecuteTime": {
     "end_time": "2024-12-04T08:49:31.333060Z",
     "start_time": "2024-12-04T08:49:31.327811Z"
    }
   },
   "source": [
    "def count_substring_occurrences(char_list, substring):\n",
    "    count = 0\n",
    "    substring_length = len(substring)\n",
    "    \n",
    "    for i in range(len(char_list) - substring_length + 1):\n",
    "        if char_list[i:i + substring_length] == list(substring):\n",
    "            count += 1\n",
    "    return count\n"
   ],
   "outputs": [],
   "execution_count": 45
  },
  {
   "cell_type": "code",
   "metadata": {
    "ExecuteTime": {
     "end_time": "2024-12-04T08:49:40.598478Z",
     "start_time": "2024-12-04T08:49:40.594280Z"
    }
   },
   "source": [
    "def count_matrix_substring(matrix_input, substring):\n",
    "    result = 0\n",
    "    for i in range(len(matrix_input)):\n",
    "        result += count_substring_occurrences(matrix_input[i], substring)\n",
    "    return result\n",
    "\n"
   ],
   "outputs": [],
   "execution_count": 46
  },
  {
   "cell_type": "code",
   "metadata": {
    "ExecuteTime": {
     "end_time": "2024-12-04T08:49:41.687372Z",
     "start_time": "2024-12-04T08:49:41.603556Z"
    }
   },
   "source": [
    "count_matrix_substring(matrix,'XMAS') \\\n",
    "+ count_matrix_substring(invert_rows(matrix),'XMAS') \\\n",
    "+count_matrix_substring(transpose_matrix(matrix), 'XMAS')\\\n",
    "+count_matrix_substring(invert_rows(transpose_matrix(matrix)), 'XMAS')\\\n",
    "+count_matrix_substring(diagonals_main, 'XMAS')  \\\n",
    "+count_matrix_substring(invert_rows(diagonals_main), 'XMAS')  \\\n",
    "+count_matrix_substring(diagonals_anti, 'XMAS')  \\\n",
    "+count_matrix_substring(invert_rows(diagonals_anti), 'XMAS')  \n",
    "\n"
   ],
   "outputs": [
    {
     "data": {
      "text/plain": [
       "2517"
      ]
     },
     "execution_count": 47,
     "metadata": {},
     "output_type": "execute_result"
    }
   ],
   "execution_count": 47
  },
  {
   "metadata": {},
   "cell_type": "markdown",
   "source": " part 2"
  },
  {
   "metadata": {
    "ExecuteTime": {
     "end_time": "2024-12-04T09:11:40.922550Z",
     "start_time": "2024-12-04T09:11:40.892895Z"
    }
   },
   "cell_type": "code",
   "source": [
    "def count_A(matrix):\n",
    "    result = 0\n",
    "    for i in range(1, len(matrix)-1):\n",
    "        for j in range(1, len(matrix[0])-1):\n",
    "            option1 = ((matrix[i-1][j-1] == 'M' and matrix[i+1][j+1] == 'S') and (matrix[i-1][j+1] == 'M' and matrix[i+1][j-1] == 'S'))\n",
    "            option2 = ((matrix[i-1][j-1] == 'M' and matrix[i+1][j+1] == 'S') and (matrix[i-1][j+1] == 'S' and matrix[i+1][j-1] == 'M'))\n",
    "            option3 = ((matrix[i-1][j-1] == 'S' and matrix[i+1][j+1] == 'M') and (matrix[i-1][j+1] == 'S' and matrix[i+1][j-1] == 'M'))\n",
    "            option4 = ((matrix[i-1][j-1] == 'S' and matrix[i+1][j+1] == 'M') and (matrix[i-1][j+1] == 'M' and matrix[i+1][j-1] == 'S'))\n",
    "            if matrix[i][j] == 'A':\n",
    "                if option1 or option2 or option3 or option4:\n",
    "                        result += 1\n",
    "    return result\n",
    "\n",
    "count_A(matrix)"
   ],
   "outputs": [
    {
     "data": {
      "text/plain": [
       "1960"
      ]
     },
     "execution_count": 66,
     "metadata": {},
     "output_type": "execute_result"
    }
   ],
   "execution_count": 66
  },
  {
   "metadata": {},
   "cell_type": "code",
   "outputs": [],
   "execution_count": null,
   "source": ""
  }
 ],
 "metadata": {
  "kernelspec": {
   "display_name": "cow_3_10",
   "language": "python",
   "name": "cow_3_10"
  },
  "language_info": {
   "codemirror_mode": {
    "name": "ipython",
    "version": 3
   },
   "file_extension": ".py",
   "mimetype": "text/x-python",
   "name": "python",
   "nbconvert_exporter": "python",
   "pygments_lexer": "ipython3",
   "version": "3.10.13"
  }
 },
 "nbformat": 4,
 "nbformat_minor": 4
}
