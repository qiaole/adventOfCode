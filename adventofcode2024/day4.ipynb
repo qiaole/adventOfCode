{
 "cells": [
  {
   "metadata": {},
   "cell_type": "markdown",
   "source": "part 1"
  },
  {
   "cell_type": "code",
   "metadata": {
    "ExecuteTime": {
     "end_time": "2024-12-04T20:52:55.094321Z",
     "start_time": "2024-12-04T20:52:55.020671Z"
    }
   },
   "source": [
    "with open('inputs/day4_ex1.txt', 'r', encoding=\"utf-8\") as f:\n",
    "\n",
    "    raw_lines = f.readlines()\n",
    "lines = [x[:-1] for x in raw_lines]\n"
   ],
   "outputs": [],
   "execution_count": 67
  },
  {
   "cell_type": "code",
   "metadata": {
    "ExecuteTime": {
     "end_time": "2024-12-04T20:53:02.650812Z",
     "start_time": "2024-12-04T20:53:02.633962Z"
    }
   },
   "source": [
    "def convert_to_matrix(input_list):\n",
    "    matrix = [list(row) for row in input_list]\n",
    "    return matrix\n",
    "\n",
    "matrix = convert_to_matrix(lines)"
   ],
   "outputs": [],
   "execution_count": 68
  },
  {
   "cell_type": "code",
   "metadata": {
    "ExecuteTime": {
     "end_time": "2024-12-04T21:05:18.417357Z",
     "start_time": "2024-12-04T21:05:18.411526Z"
    }
   },
   "source": [
    "\n",
    "def transpose_matrix(matrix):\n",
    "    transposed = [[row[i] for row in matrix] for i in range(len(matrix[0]))]\n",
    "    return transposed\n"
   ],
   "outputs": [],
   "execution_count": 73
  },
  {
   "cell_type": "code",
   "metadata": {
    "ExecuteTime": {
     "end_time": "2024-12-04T08:49:28.585999Z",
     "start_time": "2024-12-04T08:49:28.560090Z"
    }
   },
   "source": [
    "def get_all_diagonals(matrix):\n",
    "    rows = len(matrix)\n",
    "    cols = len(matrix[0])\n",
    "    \n",
    "    # List to store all diagonals\n",
    "    diagonals_main = []  # Diagonals parallel to the main diagonal\n",
    "    diagonals_anti = []  # Diagonals parallel to the anti-diagonal\n",
    "\n",
    "    # Extract diagonals parallel to the main diagonal\n",
    "    # From top-left to bottom-right\n",
    "    for d in range(rows + cols - 1):\n",
    "        diagonal_main = []\n",
    "        for row in range(rows):\n",
    "            col = d - row\n",
    "            if 0 <= col < cols:\n",
    "                diagonal_main.append(matrix[row][col])\n",
    "        if diagonal_main:\n",
    "            diagonals_main.append(diagonal_main)\n",
    "\n",
    "    # Extract diagonals parallel to the anti-diagonal\n",
    "    # From top-right to bottom-left\n",
    "    for d in range(rows + cols - 1):\n",
    "        diagonal_anti = []\n",
    "        for row in range(rows):\n",
    "            col = row - (d - (cols - 1))\n",
    "            if 0 <= col < cols:\n",
    "                diagonal_anti.append(matrix[row][col])\n",
    "        if diagonal_anti:\n",
    "            diagonals_anti.append(diagonal_anti)\n",
    "\n",
    "    return diagonals_main, diagonals_anti\n",
    "\n",
    "\n",
    "# Get all diagonals\n",
    "diagonals_main, diagonals_anti = get_all_diagonals(matrix)\n"
   ],
   "outputs": [],
   "execution_count": 44
  },
  {
   "cell_type": "code",
   "metadata": {
    "ExecuteTime": {
     "end_time": "2024-12-04T08:49:31.333060Z",
     "start_time": "2024-12-04T08:49:31.327811Z"
    }
   },
   "source": [
    "def count_substring_occurrences(char_list, substring):\n",
    "    count = 0\n",
    "    substring_length = len(substring)\n",
    "    \n",
    "    for i in range(len(char_list) - substring_length + 1):\n",
    "        if char_list[i:i + substring_length] == list(substring):\n",
    "            count += 1\n",
    "    return count\n"
   ],
   "outputs": [],
   "execution_count": 45
  },
  {
   "cell_type": "code",
   "metadata": {
    "ExecuteTime": {
     "end_time": "2024-12-04T08:49:40.598478Z",
     "start_time": "2024-12-04T08:49:40.594280Z"
    }
   },
   "source": [
    "def count_matrix_substring(matrix_input, substring):\n",
    "    result = 0\n",
    "    for i in range(len(matrix_input)):\n",
    "        result += count_substring_occurrences(matrix_input[i], substring)\n",
    "    return result\n",
    "\n"
   ],
   "outputs": [],
   "execution_count": 46
  },
  {
   "metadata": {
    "ExecuteTime": {
     "end_time": "2024-12-04T21:04:37.036599Z",
     "start_time": "2024-12-04T21:04:36.942603Z"
    }
   },
   "cell_type": "code",
   "source": [
    "count_matrix_substring(matrix,'XMAS') \\\n",
    "+ count_matrix_substring(matrix,'SAMX') \\\n",
    "+count_matrix_substring(transpose_matrix(matrix), 'XMAS')\\\n",
    "+count_matrix_substring(transpose_matrix(matrix), 'SAMX')\\\n",
    "+count_matrix_substring(diagonals_main, 'XMAS')  \\\n",
    "+count_matrix_substring(diagonals_main, 'SAMX')  \\\n",
    "+count_matrix_substring(diagonals_anti, 'XMAS')  \\\n",
    "+count_matrix_substring(diagonals_anti, 'SAMX')\n",
    "\n"
   ],
   "outputs": [
    {
     "data": {
      "text/plain": [
       "2517"
      ]
     },
     "execution_count": 72,
     "metadata": {},
     "output_type": "execute_result"
    }
   ],
   "execution_count": 72
  },
  {
   "metadata": {},
   "cell_type": "markdown",
   "source": " part 2"
  },
  {
   "metadata": {
    "ExecuteTime": {
     "end_time": "2024-12-04T21:00:59.837471Z",
     "start_time": "2024-12-04T21:00:59.818143Z"
    }
   },
   "cell_type": "code",
   "source": [
    "def count_A(matrix):\n",
    "    result = 0\n",
    "    condition ={'MSMS', 'MSSM', 'SMSM', 'SMMS'}\n",
    "\n",
    "    for i in range(1, len(matrix)-1):\n",
    "        for j in range(1, len(matrix[0])-1):\n",
    "            if matrix[i][j] == 'A':\n",
    "                points = matrix[i-1][j-1] + matrix[i+1][j+1] + matrix[i-1][j+1] + matrix[i+1][j-1]\n",
    "                if points in condition:\n",
    "                    result += 1\n",
    "    return result\n",
    "\n",
    "count_A(matrix)"
   ],
   "outputs": [
    {
     "data": {
      "text/plain": [
       "1960"
      ]
     },
     "execution_count": 71,
     "metadata": {},
     "output_type": "execute_result"
    }
   ],
   "execution_count": 71
  }
 ],
 "metadata": {
  "kernelspec": {
   "display_name": "cow_3_10",
   "language": "python",
   "name": "cow_3_10"
  },
  "language_info": {
   "codemirror_mode": {
    "name": "ipython",
    "version": 3
   },
   "file_extension": ".py",
   "mimetype": "text/x-python",
   "name": "python",
   "nbconvert_exporter": "python",
   "pygments_lexer": "ipython3",
   "version": "3.10.13"
  }
 },
 "nbformat": 4,
 "nbformat_minor": 4
}
