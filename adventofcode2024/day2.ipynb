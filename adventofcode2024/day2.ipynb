{
 "cells": [
  {
   "cell_type": "markdown",
   "metadata": {},
   "source": [
    "# part 1"
   ]
  },
  {
   "cell_type": "code",
   "execution_count": 108,
   "metadata": {},
   "outputs": [],
   "source": [
    "with open('inputs/day2_ex1.txt', 'r', encoding=\"utf-8\") as f:\n",
    "\n",
    "    raw_lines = f.readlines()\n",
    "lines1 = [x[:-1].split() for x in raw_lines]\n"
   ]
  },
  {
   "cell_type": "code",
   "execution_count": 109,
   "metadata": {},
   "outputs": [],
   "source": [
    "def check_list(x):\n",
    "    xdiff = [x[n]-x[n-1] for n in range(1,len(x))]\n",
    "    xdiff_abs = [abs(x[n]-x[n-1]) for n in range(1,len(x))]\n",
    "    condition1 = all(item >= 0 for item in xdiff) or all(item < 0 for item in xdiff)\n",
    "    condition2 = max(xdiff_abs) <=3 and min(xdiff_abs) >=1\n",
    "    if condition1 and condition2:\n",
    "        return 1\n",
    "    else: return 0"
   ]
  },
  {
   "cell_type": "code",
   "execution_count": 110,
   "metadata": {},
   "outputs": [
    {
     "data": {
      "text/plain": [
       "202"
      ]
     },
     "execution_count": 110,
     "metadata": {},
     "output_type": "execute_result"
    }
   ],
   "source": [
    "success = 0\n",
    "for x_string in lines1:\n",
    "    x = [int(a) for a in x_string]\n",
    "    success += check_list(x)\n",
    "    \n",
    "success"
   ]
  },
  {
   "cell_type": "markdown",
   "metadata": {},
   "source": [
    "# part 2"
   ]
  },
  {
   "cell_type": "code",
   "execution_count": 112,
   "metadata": {},
   "outputs": [],
   "source": [
    "def generate_subsets(original_list):\n",
    "    subsets = [original_list[:i] + original_list[i+1:] for i in range(len(original_list))]\n",
    "    return subsets"
   ]
  },
  {
   "cell_type": "code",
   "execution_count": 114,
   "metadata": {},
   "outputs": [
    {
     "data": {
      "text/plain": [
       "271"
      ]
     },
     "execution_count": 114,
     "metadata": {},
     "output_type": "execute_result"
    }
   ],
   "source": [
    "success = 0\n",
    "for x_string in lines1:\n",
    "    x = [int(a) for a in x_string]\n",
    "    if check_list(x):\n",
    "        success += 1\n",
    "    else:\n",
    "        sub_sum = 0\n",
    "        sub_list = generate_subsets(x)\n",
    "        for i in sub_list:\n",
    "            sub_sum += check_list(i)\n",
    "        if sub_sum >0:\n",
    "            success += 1\n",
    "            \n",
    "        \n",
    "    \n",
    "success"
   ]
  },
  {
   "cell_type": "code",
   "execution_count": null,
   "metadata": {},
   "outputs": [],
   "source": []
  }
 ],
 "metadata": {
  "kernelspec": {
   "display_name": "cow_3_10",
   "language": "python",
   "name": "cow_3_10"
  },
  "language_info": {
   "codemirror_mode": {
    "name": "ipython",
    "version": 3
   },
   "file_extension": ".py",
   "mimetype": "text/x-python",
   "name": "python",
   "nbconvert_exporter": "python",
   "pygments_lexer": "ipython3",
   "version": "3.10.13"
  }
 },
 "nbformat": 4,
 "nbformat_minor": 4
}
