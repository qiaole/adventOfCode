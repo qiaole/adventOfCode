{
 "cells": [
  {
   "metadata": {
    "ExecuteTime": {
     "end_time": "2024-12-12T22:07:34.662403Z",
     "start_time": "2024-12-12T22:07:34.651828Z"
    }
   },
   "cell_type": "code",
   "source": [
    "def blink_n_times(input_data, n):\n",
    "    total_count = 0\n",
    "    for i in range(n):\n",
    "        input_data = blink_once(input_data)\n",
    "    for key in input_data:\n",
    "        total_count += input_data[key]\n",
    "    return total_count\n",
    "\n"
   ],
   "id": "f9e30addaae63944",
   "outputs": [],
   "execution_count": 1
  },
  {
   "metadata": {
    "ExecuteTime": {
     "end_time": "2024-12-12T22:07:35.789638Z",
     "start_time": "2024-12-12T22:07:35.435849Z"
    }
   },
   "cell_type": "code",
   "source": [
    "import numpy as np\n",
    "\n",
    "def get_input(path):\n",
    "    with open(path, 'r', encoding=\"utf-8\") as f:\n",
    "\n",
    "        raw_lines = f.readlines()\n",
    "    lines = [x[:-1].split() for x in raw_lines]\n",
    "\n",
    "    groups = {}\n",
    "    for stone in lines[0]:\n",
    "        if stone not in groups:\n",
    "            groups[int(stone)] = 1\n",
    "        else:\n",
    "            groups[int(stone)] += 1\n",
    "    return groups\n",
    "\n",
    "def blink_once(input_data):\n",
    "    new_groups = {}\n",
    "    total_count = 0\n",
    "    for stone, count in input_data.items():\n",
    "        if stone == 0:\n",
    "            if 1 not in new_groups:\n",
    "                new_groups[1] = count\n",
    "            else:\n",
    "                new_groups[1] += count\n",
    "        elif len(str(stone))%2 == 0:\n",
    "            mid = int(len(str(stone))/2)\n",
    "            new_member_1 = int((str(stone)[0:mid]))\n",
    "            new_member_2 = int((str(stone)[mid:]))\n",
    "            if new_member_1 not in new_groups:\n",
    "                new_groups[new_member_1] = count\n",
    "            else:\n",
    "                new_groups[new_member_1] += count\n",
    "            if new_member_2 not in new_groups:\n",
    "                new_groups[new_member_2] = count\n",
    "            else:\n",
    "                new_groups[new_member_2] += count\n",
    "        else:\n",
    "            if stone*2024 not in new_groups:\n",
    "                new_groups[stone*2024] = count\n",
    "            else:\n",
    "                new_groups[stone*2024] += count\n",
    "    for key in new_groups:\n",
    "        total_count += new_groups[key]\n",
    "    return new_groups\n",
    "\n",
    "input_data = get_input('inputs/day11_ex1.txt')\n",
    "\n",
    "print('part 1', blink_n_times(input_data, 25))\n",
    "\n",
    "print('part 2', blink_n_times(input_data, 75))"
   ],
   "id": "b0238e7927fd57d8",
   "outputs": [
    {
     "name": "stdout",
     "output_type": "stream",
     "text": [
      "part 1 200446\n",
      "part 2 238317474993392\n"
     ]
    }
   ],
   "execution_count": 2
  },
  {
   "metadata": {
    "ExecuteTime": {
     "end_time": "2024-12-12T22:07:17.292961Z",
     "start_time": "2024-12-12T22:07:17.289677Z"
    }
   },
   "cell_type": "code",
   "source": "",
   "id": "8763be4fef8a7163",
   "outputs": [],
   "execution_count": null
  },
  {
   "metadata": {},
   "cell_type": "code",
   "outputs": [],
   "execution_count": null,
   "source": "",
   "id": "a6bb67feed64e067"
  }
 ],
 "metadata": {
  "kernelspec": {
   "display_name": "cow_3_10",
   "language": "python",
   "name": "cow_3_10"
  },
  "language_info": {
   "codemirror_mode": {
    "name": "ipython",
    "version": 2
   },
   "file_extension": ".py",
   "mimetype": "text/x-python",
   "name": "python",
   "nbconvert_exporter": "python",
   "pygments_lexer": "ipython2",
   "version": "2.7.6"
  }
 },
 "nbformat": 4,
 "nbformat_minor": 5
}
