{
 "cells": [
  {
   "metadata": {
    "ExecuteTime": {
     "end_time": "2024-12-13T15:59:35.910089Z",
     "start_time": "2024-12-13T15:59:35.904290Z"
    }
   },
   "cell_type": "code",
   "source": [
    "def translate_disk_map(disk_map):\n",
    "    block_representation = []\n",
    "    file_id = 0\n",
    "    i = 0\n",
    "\n",
    "    while i < len(disk_map):\n",
    "        # Get the length of the file\n",
    "        file_length = int(disk_map[i])\n",
    "        block_representation.extend([file_id] * file_length)\n",
    "        file_id += 1\n",
    "        i += 1\n",
    "\n",
    "        if i < len(disk_map):\n",
    "            free_space_length = int(disk_map[i])\n",
    "            block_representation.extend([-1] * free_space_length)\n",
    "            i += 1\n",
    "\n",
    "    return block_representation\n"
   ],
   "id": "4650dce24f8df094",
   "outputs": [],
   "execution_count": 2
  },
  {
   "metadata": {
    "ExecuteTime": {
     "end_time": "2024-12-13T15:59:36.632920Z",
     "start_time": "2024-12-13T15:59:36.626937Z"
    }
   },
   "cell_type": "code",
   "source": [
    "def move_minus_ones_to_end(lst):\n",
    "    # Initialize pointers\n",
    "    first_minus_one = 0\n",
    "    last_non_minus_one = len(lst) - 1\n",
    "\n",
    "    while first_minus_one < last_non_minus_one:\n",
    "        # Find the first -1 from the start\n",
    "        while first_minus_one < len(lst) and lst[first_minus_one] != -1:\n",
    "            first_minus_one += 1\n",
    "\n",
    "        # Find the last non -1 from the end\n",
    "        while last_non_minus_one >= 0 and lst[last_non_minus_one] == -1:\n",
    "            last_non_minus_one -= 1\n",
    "\n",
    "        # Swap if valid indices\n",
    "        if first_minus_one < last_non_minus_one:\n",
    "            lst[first_minus_one], lst[last_non_minus_one] = lst[last_non_minus_one], lst[first_minus_one]\n",
    "\n",
    "    return lst\n",
    "\n",
    "\n",
    "def calculate_checksum(lst):\n",
    "    checksum = 0\n",
    "    for i, value in enumerate(lst):\n",
    "        if value != -1:\n",
    "            checksum += i * value\n",
    "    return checksum\n"
   ],
   "id": "c59bfff327c7a1ce",
   "outputs": [],
   "execution_count": 3
  },
  {
   "metadata": {
    "ExecuteTime": {
     "end_time": "2024-12-13T15:59:37.371Z",
     "start_time": "2024-12-13T15:59:37.366882Z"
    }
   },
   "cell_type": "code",
   "source": [
    "with open('inputs/day9_test1.txt', 'r') as file:\n",
    "    disk_map = file.read().strip()\n",
    "\n"
   ],
   "id": "632c3ea6ab574d38",
   "outputs": [],
   "execution_count": 4
  },
  {
   "metadata": {
    "ExecuteTime": {
     "end_time": "2024-12-13T15:59:38.199862Z",
     "start_time": "2024-12-13T15:59:38.190289Z"
    }
   },
   "cell_type": "code",
   "source": [
    "result = translate_disk_map(disk_map)\n",
    "moved_result = move_minus_ones_to_end(result)\n",
    "\n",
    "calculate_checksum(moved_result)\n"
   ],
   "id": "7042e6f91a551542",
   "outputs": [
    {
     "data": {
      "text/plain": [
       "1928"
      ]
     },
     "execution_count": 5,
     "metadata": {},
     "output_type": "execute_result"
    }
   ],
   "execution_count": 5
  },
  {
   "metadata": {},
   "cell_type": "markdown",
   "source": "part 2",
   "id": "e38b1812d4b9601a"
  },
  {
   "metadata": {
    "ExecuteTime": {
     "end_time": "2024-12-13T15:59:40.333398Z",
     "start_time": "2024-12-13T15:59:40.327311Z"
    }
   },
   "cell_type": "code",
   "source": [
    "def find_free_spans(lst):\n",
    "    spans = []\n",
    "    start = None\n",
    "    for i, value in enumerate(lst):\n",
    "        if value == -1:\n",
    "            if start is None:\n",
    "                start = i\n",
    "        else:\n",
    "            if start is not None:\n",
    "                spans.append((start, i - 1))\n",
    "                start = None\n",
    "    if start is not None:\n",
    "        spans.append((start, len(lst) - 1))\n",
    "    return spans"
   ],
   "id": "3ad58650477750f4",
   "outputs": [],
   "execution_count": 6
  },
  {
   "metadata": {
    "ExecuteTime": {
     "end_time": "2024-12-13T16:00:42.558556Z",
     "start_time": "2024-12-13T15:59:41.068321Z"
    }
   },
   "cell_type": "code",
   "source": [
    "def move_minus_ones_to_end_whole_block(lst):\n",
    "\n",
    "    def move_file(lst, file_id, start_idx, end_idx, free_spans):\n",
    "        file_length = end_idx - start_idx + 1\n",
    "        for start, end in free_spans:\n",
    "            if end - start + 1 >= file_length and start < start_idx:\n",
    "                # Move the file to the free span\n",
    "                for i in range(file_length):\n",
    "                    lst[start + i] = file_id\n",
    "                # Clear the original file location\n",
    "                for i in range(start_idx, end_idx + 1):\n",
    "                    lst[i] = -1\n",
    "                return lst\n",
    "        return lst\n",
    "\n",
    "    # Find contiguous blocks of each file\n",
    "    file_blocks = []\n",
    "    start = 0\n",
    "    while start < len(lst):\n",
    "        if lst[start] != -1:\n",
    "            end = start\n",
    "            while end + 1 < len(lst) and lst[end + 1] == lst[start]:\n",
    "                end += 1\n",
    "            file_blocks.append((lst[start], start, end))\n",
    "            start = end + 1\n",
    "        else:\n",
    "            start += 1\n",
    "\n",
    "    # Sort files by file ID in decreasing order\n",
    "    file_blocks.sort(key=lambda x: -x[0])\n",
    "\n",
    "    # Move files to the leftmost span of free space\n",
    "    for file_id, start_idx, end_idx in file_blocks:\n",
    "        free_spans = find_free_spans(lst)\n",
    "        lst = move_file(lst, file_id, start_idx, end_idx, free_spans)\n",
    "\n",
    "    return lst\n",
    "\n",
    "with open('inputs/day9_ex1.txt', 'r') as file:\n",
    "    disk_map = file.read().strip()\n",
    "\n",
    "result = translate_disk_map(disk_map)\n",
    "\n",
    "result = move_minus_ones_to_end_whole_block(result)\n",
    "calculate_checksum(result)"
   ],
   "id": "7d5a5cd667723a90",
   "outputs": [
    {
     "data": {
      "text/plain": [
       "6353648390778"
      ]
     },
     "execution_count": 7,
     "metadata": {},
     "output_type": "execute_result"
    }
   ],
   "execution_count": 7
  }
 ],
 "metadata": {
  "kernelspec": {
   "display_name": "Python 3",
   "language": "python",
   "name": "python3"
  },
  "language_info": {
   "codemirror_mode": {
    "name": "ipython",
    "version": 2
   },
   "file_extension": ".py",
   "mimetype": "text/x-python",
   "name": "python",
   "nbconvert_exporter": "python",
   "pygments_lexer": "ipython2",
   "version": "2.7.6"
  }
 },
 "nbformat": 4,
 "nbformat_minor": 5
}
