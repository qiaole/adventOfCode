{
 "cells": [
  {
   "metadata": {
    "ExecuteTime": {
     "end_time": "2024-12-09T11:38:31.775232Z",
     "start_time": "2024-12-09T11:38:31.765048Z"
    }
   },
   "cell_type": "code",
   "source": "import itertools\n",
   "id": "c912e59e6d0fca51",
   "outputs": [],
   "execution_count": 1
  },
  {
   "metadata": {
    "ExecuteTime": {
     "end_time": "2024-12-09T11:38:31.804633Z",
     "start_time": "2024-12-09T11:38:31.798438Z"
    }
   },
   "cell_type": "code",
   "source": [
    "def get_input(path):\n",
    "    with open(path, 'r', encoding=\"utf-8\") as f:\n",
    "\n",
    "        raw_lines = f.readlines()\n",
    "    result = [int(x.split(':')[0]) for x in raw_lines]\n",
    "    element =[x.split(':')[1] for x in raw_lines]\n",
    "    element = [[int(num) for num in x[1:-1].split(' ')] for x in element]\n",
    "    return result, element\n",
    "\n",
    "\n"
   ],
   "id": "da9a3ac80e141ee4",
   "outputs": [],
   "execution_count": 2
  },
  {
   "metadata": {
    "ExecuteTime": {
     "end_time": "2024-12-09T11:38:32.065045Z",
     "start_time": "2024-12-09T11:38:32.056728Z"
    }
   },
   "cell_type": "code",
   "source": [
    "\n",
    "def generate_combinations(element, operators = ['+', '*']):\n",
    "    length = len(element) -1\n",
    "    combinations = list(itertools.product(operators, repeat=length))\n",
    "    return [''.join(combination) for combination in combinations]\n",
    "\n",
    "\n",
    "def check_one_combination (element, combination):\n",
    "    result = element[0]\n",
    "    for i in range(len(element)-1):\n",
    "        if combination[i] == '+':\n",
    "            result = result + element[i+1]\n",
    "        elif combination[i] == '*':\n",
    "            result = result * element[i+1]\n",
    "        elif combination[i] == '|':\n",
    "            result = int(str(result) + str(element[i+1]))\n",
    "    return result\n",
    "\n",
    "\n",
    "def check_one_line(result, element, operators):\n",
    "    combinations = generate_combinations(element, operators)\n",
    "    possible_results = []\n",
    "    for i in combinations:\n",
    "        possible_results.append(check_one_combination(element, i))\n",
    "    if result in possible_results:\n",
    "        return result\n",
    "    else:\n",
    "        return 0\n",
    "\n",
    "def check_all_lines(result, element, operators):\n",
    "    sum = 0\n",
    "    for i in range(len(result)):\n",
    "        if check_one_line(result[i], element[i], operators)!=0:\n",
    "            sum += check_one_line(result[i], element[i], operators)\n",
    "    return sum\n"
   ],
   "id": "efbcbd9cda5d4aba",
   "outputs": [],
   "execution_count": 3
  },
  {
   "metadata": {
    "ExecuteTime": {
     "end_time": "2024-12-09T11:38:32.077207Z",
     "start_time": "2024-12-09T11:38:32.070816Z"
    }
   },
   "cell_type": "code",
   "source": "result, element = get_input('inputs/day7_ex1.txt')",
   "id": "2c10d2eb822aa51d",
   "outputs": [],
   "execution_count": 4
  },
  {
   "metadata": {},
   "cell_type": "markdown",
   "source": "part 1",
   "id": "3cf9739a8bdeaf7"
  },
  {
   "metadata": {
    "ExecuteTime": {
     "end_time": "2024-12-09T11:38:32.852605Z",
     "start_time": "2024-12-09T11:38:32.095033Z"
    }
   },
   "cell_type": "code",
   "source": "check_all_lines(result, element, ['+', '*'])\n",
   "id": "aa90872def5f4033",
   "outputs": [
    {
     "data": {
      "text/plain": [
       "2664460013123"
      ]
     },
     "execution_count": 5,
     "metadata": {},
     "output_type": "execute_result"
    }
   ],
   "execution_count": 5
  },
  {
   "metadata": {},
   "cell_type": "markdown",
   "source": "part 2\n",
   "id": "a8cacd14ccd3e7f0"
  },
  {
   "metadata": {
    "ExecuteTime": {
     "end_time": "2024-12-09T11:40:23.147258Z",
     "start_time": "2024-12-09T11:38:32.863021Z"
    }
   },
   "cell_type": "code",
   "source": "check_all_lines(result, element, ['+', '*', '|'])\n",
   "id": "307ef3c3904d01b9",
   "outputs": [
    {
     "data": {
      "text/plain": [
       "426214131924213"
      ]
     },
     "execution_count": 6,
     "metadata": {},
     "output_type": "execute_result"
    }
   ],
   "execution_count": 6
  }
 ],
 "metadata": {
  "kernelspec": {
   "display_name": "Python 3",
   "language": "python",
   "name": "python3"
  },
  "language_info": {
   "codemirror_mode": {
    "name": "ipython",
    "version": 2
   },
   "file_extension": ".py",
   "mimetype": "text/x-python",
   "name": "python",
   "nbconvert_exporter": "python",
   "pygments_lexer": "ipython2",
   "version": "2.7.6"
  }
 },
 "nbformat": 4,
 "nbformat_minor": 5
}
