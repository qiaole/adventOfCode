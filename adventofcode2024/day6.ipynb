{
 "cells": [
  {
   "cell_type": "code",
   "id": "initial_id",
   "metadata": {
    "collapsed": true,
    "ExecuteTime": {
     "end_time": "2024-12-06T10:16:30.580153Z",
     "start_time": "2024-12-06T10:16:30.563988Z"
    }
   },
   "source": [
    "def get_input(path):\n",
    "    with open(path, 'r', encoding=\"utf-8\") as f:\n",
    "\n",
    "        raw_lines = f.readlines()\n",
    "    lines = [x[:-1].split() for x in raw_lines]\n",
    "    lines = [[x for x in y[0]] for y in lines]\n",
    "    return lines\n",
    "\n",
    "part1_test = get_input('inputs/day6_test1.txt')\n",
    "part1_ex = get_input('inputs/day6_ex1.txt')\n"
   ],
   "outputs": [],
   "execution_count": 1
  },
  {
   "metadata": {
    "ExecuteTime": {
     "end_time": "2024-12-06T10:16:30.620843Z",
     "start_time": "2024-12-06T10:16:30.616305Z"
    }
   },
   "cell_type": "code",
   "source": [
    "def find_guard_position(input):\n",
    "    for i in range(len(input)):\n",
    "        for j in range(len(input[0])):\n",
    "            if input[i][j] == '^':\n",
    "                return i,j"
   ],
   "id": "90c39ddca477157b",
   "outputs": [],
   "execution_count": 2
  },
  {
   "metadata": {
    "ExecuteTime": {
     "end_time": "2024-12-06T10:16:30.885727Z",
     "start_time": "2024-12-06T10:16:30.881316Z"
    }
   },
   "cell_type": "code",
   "source": [
    "def get_next_directions(current_direction):\n",
    "    directions = [[-1, 0], [0, 1], [1, 0], [0, -1]]\n",
    "    current_direction_index = directions.index(current_direction)\n",
    "    return directions[(current_direction_index + 1) % 4]"
   ],
   "id": "e61278f180bc6d2f",
   "outputs": [],
   "execution_count": 3
  },
  {
   "metadata": {
    "ExecuteTime": {
     "end_time": "2024-12-06T10:16:30.913874Z",
     "start_time": "2024-12-06T10:16:30.897737Z"
    }
   },
   "cell_type": "code",
   "source": [
    "def moving_to_the_boarder_and_collect_the_passing_by_positions(row_position, col_position, lines):\n",
    "    current_direction = [-1, 0]\n",
    "    positions_been = [[row_position, col_position]]\n",
    "    directions_been = [current_direction]\n",
    "    while row_position not in [0, len(lines) - 1] and col_position not in [0, len(lines[0]) - 1]:\n",
    "        next_row_position = row_position + current_direction[0]\n",
    "        next_col_position = col_position + current_direction[1]\n",
    "        if lines[next_row_position][next_col_position] in ['.', '^']:\n",
    "            positions_been.append([next_row_position, next_col_position])\n",
    "            row_position = next_row_position\n",
    "            col_position = next_col_position\n",
    "            directions_been.append(current_direction)\n",
    "        else:\n",
    "            current_direction = get_next_directions(current_direction)\n",
    "    return positions_been, directions_been\n",
    "\n",
    "input_board = part1_ex\n",
    "guard_row_position, guard_col_position= find_guard_position(input_board)\n",
    "all_positions_been, all_directions_been = moving_to_the_boarder_and_collect_the_passing_by_positions(guard_row_position, guard_col_position, input_board)\n",
    "\n",
    "print('part 1 answer:', len(set([tuple(x) for x in all_positions_been])))\n"
   ],
   "id": "d5288e585b2d4850",
   "outputs": [
    {
     "name": "stdout",
     "output_type": "stream",
     "text": [
      "part 1 answer: 4663\n"
     ]
    }
   ],
   "execution_count": 4
  },
  {
   "metadata": {},
   "cell_type": "markdown",
   "source": "# part 2",
   "id": "48ce862da3f49a1"
  },
  {
   "metadata": {
    "ExecuteTime": {
     "end_time": "2024-12-06T10:16:30.942636Z",
     "start_time": "2024-12-06T10:16:30.933878Z"
    }
   },
   "cell_type": "code",
   "source": [
    "def find_values_by_indexes(list1, list2, target):\n",
    "    indexes = [i for i, val in enumerate(list1) if val == target]\n",
    "    result = [list2[i] for i in indexes]\n",
    "    return result\n",
    "\n",
    "\n",
    "def check_if_in_a_loop(row_position, col_position, lines):\n",
    "    current_direction = [-1, 0]\n",
    "    positions_been = [[row_position, col_position]]\n",
    "    directions_been = [current_direction]\n",
    "    while row_position not in [0, len(lines) - 1] and col_position not in [0, len(lines[0]) - 1]:\n",
    "        if ([row_position, col_position] in positions_been[:-1] and current_direction in directions_been[:-1]\n",
    "                and current_direction in find_values_by_indexes(positions_been[:-1], directions_been[:-1], [row_position, col_position])):\n",
    "            return True\n",
    "        next_row_position = row_position + current_direction[0]\n",
    "        next_col_position = col_position + current_direction[1]\n",
    "        if lines[next_row_position][next_col_position] in ['.', '^']:\n",
    "            positions_been.append([next_row_position, next_col_position])\n",
    "            row_position = next_row_position\n",
    "            col_position = next_col_position\n",
    "            directions_been.append(current_direction)\n",
    "        else:\n",
    "            current_direction = get_next_directions(current_direction)\n",
    "    return False\n",
    "\n"
   ],
   "id": "2281ab7e27718cbb",
   "outputs": [],
   "execution_count": 5
  },
  {
   "metadata": {
    "ExecuteTime": {
     "end_time": "2024-12-06T10:16:30.985948Z",
     "start_time": "2024-12-06T10:16:30.981995Z"
    }
   },
   "cell_type": "code",
   "source": [
    "def generate_one_new_board(replacement_positions, board):\n",
    "    new_board = [x.copy() for x in board]\n",
    "    new_board[replacement_positions[0]][replacement_positions[1]] = '#'\n",
    "    return new_board"
   ],
   "id": "e7375ae6fbe887eb",
   "outputs": [],
   "execution_count": 6
  },
  {
   "metadata": {
    "ExecuteTime": {
     "end_time": "2024-12-06T10:16:31.008436Z",
     "start_time": "2024-12-06T10:16:31.003815Z"
    }
   },
   "cell_type": "code",
   "source": [
    "def check_all_possible_boards (row_position, col_position, all_possible_positions, board):\n",
    "    results = 0\n",
    "    for i in all_possible_positions:\n",
    "        if i!=[row_position, col_position] and check_if_in_a_loop(row_position, col_position, generate_one_new_board(i, board)):\n",
    "            results += 1\n",
    "    return results"
   ],
   "id": "29f8a9866eab3a1c",
   "outputs": [],
   "execution_count": 7
  },
  {
   "metadata": {
    "ExecuteTime": {
     "end_time": "2024-12-06T10:16:31.028525Z",
     "start_time": "2024-12-06T10:16:31.024589Z"
    }
   },
   "cell_type": "code",
   "source": [
    "def get_all_suspicious_places(all_position):\n",
    "    return [list(pos) for pos in set(tuple(pos) for pos in all_position[1:])]\n"
   ],
   "id": "76eb4e661a855c88",
   "outputs": [],
   "execution_count": 8
  },
  {
   "metadata": {
    "ExecuteTime": {
     "end_time": "2024-12-06T10:33:48.086655Z",
     "start_time": "2024-12-06T10:16:31.055929Z"
    }
   },
   "cell_type": "code",
   "source": [
    "\n",
    "unique_positions = get_all_suspicious_places(all_positions_been)\n",
    "print('part 2 answer:', check_all_possible_boards(guard_row_position, guard_col_position, unique_positions, input_board))\n"
   ],
   "id": "d8acc082bef411fb",
   "outputs": [
    {
     "name": "stdout",
     "output_type": "stream",
     "text": [
      "part 2 answer: 1530\n"
     ]
    }
   ],
   "execution_count": 9
  },
  {
   "metadata": {
    "ExecuteTime": {
     "end_time": "2024-12-06T10:33:51.017681Z",
     "start_time": "2024-12-06T10:33:51.013256Z"
    }
   },
   "cell_type": "code",
   "source": "",
   "id": "46e7ba584c57d39c",
   "outputs": [],
   "execution_count": null
  }
 ],
 "metadata": {
  "kernelspec": {
   "display_name": "Python 3",
   "language": "python",
   "name": "python3"
  },
  "language_info": {
   "codemirror_mode": {
    "name": "ipython",
    "version": 2
   },
   "file_extension": ".py",
   "mimetype": "text/x-python",
   "name": "python",
   "nbconvert_exporter": "python",
   "pygments_lexer": "ipython2",
   "version": "2.7.6"
  }
 },
 "nbformat": 4,
 "nbformat_minor": 5
}
