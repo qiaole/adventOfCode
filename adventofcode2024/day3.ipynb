{
 "cells": [
  {
   "cell_type": "markdown",
   "metadata": {},
   "source": [
    "# part 1"
   ]
  },
  {
   "cell_type": "code",
   "execution_count": 1,
   "metadata": {},
   "outputs": [],
   "source": [
    "with open('inputs/day3_ex1.txt', 'r', encoding=\"utf-8\") as f:\n",
    "\n",
    "    raw_lines = f.readlines()\n"
   ]
  },
  {
   "cell_type": "code",
   "execution_count": 2,
   "metadata": {},
   "outputs": [],
   "source": [
    "joined_string = ''.join(raw_lines)"
   ]
  },
  {
   "cell_type": "code",
   "execution_count": 3,
   "metadata": {},
   "outputs": [
    {
     "data": {
      "text/plain": [
       "182619815"
      ]
     },
     "execution_count": 3,
     "metadata": {},
     "output_type": "execute_result"
    }
   ],
   "source": [
    "import re\n",
    "\n",
    "def extract_mul_combinations(input_string):\n",
    "    pattern = r\"mul\\((\\d+),\\s*(\\d+)\\)\"\n",
    "    matches = re.findall(pattern, input_string)\n",
    "    result = [int(a) * int(b) for a, b in matches]\n",
    "    return sum(result)\n",
    "\n",
    "\n",
    "extract_mul_combinations(joined_string)\n"
   ]
  },
  {
   "cell_type": "markdown",
   "metadata": {},
   "source": [
    "# part 2"
   ]
  },
  {
   "cell_type": "code",
   "execution_count": 4,
   "metadata": {},
   "outputs": [],
   "source": [
    "with open('inputs/day3_ex1.txt', 'r', encoding=\"utf-8\") as f:\n",
    "\n",
    "    raw_lines = f.readlines()\n",
    "joined_string = ''.join(raw_lines)"
   ]
  },
  {
   "cell_type": "code",
   "execution_count": 8,
   "metadata": {},
   "outputs": [],
   "source": [
    "def split_on_do_dont(input_string):\n",
    "    result = []  \n",
    "    start = 0    \n",
    "\n",
    "    i = 0\n",
    "    while i < len(input_string):\n",
    "        if input_string[i:i+4] == 'do()':\n",
    "            if start != i: \n",
    "                result.append(input_string[start:i].strip())\n",
    "            start = i  \n",
    "            i += 4     \n",
    "\n",
    "        elif input_string[i:i+7] == \"don't()\":\n",
    "            if start != i:  \n",
    "               result.append(input_string[start:i].strip())\n",
    "            start = i  \n",
    "            i += 7     \n",
    "\n",
    "        else:\n",
    "            i += 1  # Continue scanning\n",
    "\n",
    "    if start < len(input_string):\n",
    "        result.append(input_string[start:].strip())\n",
    "\n",
    "    return result\n",
    "    \n",
    "splited_string_list = split_on_do_dont(joined_string)\n"
   ]
  },
  {
   "cell_type": "code",
   "execution_count": 9,
   "metadata": {},
   "outputs": [],
   "source": [
    "def select_elements_starting_with_do_or_dont(input_list):\n",
    "    result = [element for element in input_list if element.startswith('do()')]\n",
    "    return ''.join(result)\n",
    "    \n",
    "selected_ones = select_elements_starting_with_do_or_dont(splited_string_list)\n"
   ]
  },
  {
   "cell_type": "code",
   "execution_count": 10,
   "metadata": {},
   "outputs": [
    {
     "data": {
      "text/plain": [
       "80747545"
      ]
     },
     "execution_count": 10,
     "metadata": {},
     "output_type": "execute_result"
    }
   ],
   "source": [
    "extract_mul_combinations(selected_ones)"
   ]
  }
 ],
 "metadata": {
  "kernelspec": {
   "display_name": "cow_3_10",
   "language": "python",
   "name": "cow_3_10"
  },
  "language_info": {
   "name": ""
  }
 },
 "nbformat": 4,
 "nbformat_minor": 4
}
