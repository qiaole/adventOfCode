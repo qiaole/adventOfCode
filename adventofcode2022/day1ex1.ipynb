{
 "cells": [
  {
   "cell_type": "markdown",
   "metadata": {},
   "source": [
    "## day1"
   ]
  },
  {
   "cell_type": "code",
   "execution_count": 32,
   "metadata": {},
   "outputs": [],
   "source": [
    "def read_calory_list_file(file_path):\n",
    "    calory_list = []\n",
    "    with open(file_path, 'r', encoding=\"utf-8\") as f:\n",
    "        lines = f.readlines()\n",
    "        value = 0\n",
    "        for line in lines:\n",
    "            if line.strip() == '':\n",
    "                calory_list.append(value)\n",
    "                value = 0\n",
    "            else:\n",
    "                value = value + int(line)\n",
    "    return calory_list\n",
    "\n",
    "\n",
    "def get_top_n_max (list, n):\n",
    "    sumTopN = 0\n",
    "    for i in range (0, n):\n",
    "        sumTopN = max(list)+sumTopN\n",
    "        list.remove(max(list))     \n",
    "    return sumTopN"
   ]
  },
  {
   "cell_type": "code",
   "execution_count": 36,
   "metadata": {},
   "outputs": [
    {
     "name": "stdout",
     "output_type": "stream",
     "text": [
      "Part 1: 68775\n",
      "Part 2: 202585\n"
     ]
    }
   ],
   "source": [
    "elfCaloryList = read_calory_list_file ('day1ex1.txt')\n",
    "print('Part 1:', max(elfCaloryList))\n",
    "\n",
    "top3Calory = get_top_n_max (elfCaloryList, 3)\n",
    "print ('Part 2:',top3Calory)"
   ]
  },
  {
   "cell_type": "markdown",
   "metadata": {},
   "source": [
    "## day2part1"
   ]
  },
  {
   "cell_type": "code",
   "execution_count": 79,
   "metadata": {},
   "outputs": [],
   "source": [
    "win = 6\n",
    "draw = 3\n",
    "lose = 0\n",
    "\n",
    "type = {'A':1,'B':2,'C':3}\n",
    "\n",
    "\n",
    "cond= {\n",
    "    'AA':type['A']+draw,\n",
    "    'AB':type['B']+win,\n",
    "    'AC':type['C']+lose,\n",
    "    'BA':type['A']+lose,\n",
    "    'BB':type['B']+draw,\n",
    "    'BC':type['C']+win,\n",
    "    'CA':type['A']+win,\n",
    "    'CB':type['B']+lose,\n",
    "    'CC':type['C']+draw\n",
    "      }\n",
    "\n",
    "strategy={'X':'A','Y':'B','Z':'C'}"
   ]
  },
  {
   "cell_type": "code",
   "execution_count": 80,
   "metadata": {},
   "outputs": [
    {
     "name": "stdout",
     "output_type": "stream",
     "text": [
      "15422\n"
     ]
    }
   ],
   "source": [
    "\n",
    "with open('day2part1.txt', 'r', encoding=\"utf-8\") as f:\n",
    "    sum = 0\n",
    "    lines = f.readlines()\n",
    "    for line in lines:\n",
    "        \n",
    "        sum = cond[line[0]+strategy[line[2]]]+sum\n",
    "print(sum)"
   ]
  },
  {
   "cell_type": "markdown",
   "metadata": {},
   "source": [
    "## day2part2"
   ]
  },
  {
   "cell_type": "code",
   "execution_count": 77,
   "metadata": {},
   "outputs": [],
   "source": [
    "win = 6\n",
    "draw = 3\n",
    "lose = 0\n",
    "\n",
    "type = {'A':1,'B':2,'C':3}\n",
    "\n",
    "cond2= {\n",
    "    'AX':type['C'],\n",
    "    'AY':type['A'],\n",
    "    'AZ':type['B'],\n",
    "    'BX':type['A'],\n",
    "    'BY':type['B'],\n",
    "    'BZ':type['C'],\n",
    "    'CX':type['B'],\n",
    "    'CY':type['C'],\n",
    "    'CZ':type['A']\n",
    "      }\n",
    "strategy2={'X':lose,'Y':draw,'Z':win}"
   ]
  },
  {
   "cell_type": "code",
   "execution_count": 78,
   "metadata": {},
   "outputs": [
    {
     "name": "stdout",
     "output_type": "stream",
     "text": [
      "15442\n"
     ]
    }
   ],
   "source": [
    "\n",
    "with open('day2part1.txt', 'r', encoding=\"utf-8\") as f:\n",
    "    sum = 0\n",
    "    lines = f.readlines()\n",
    "    for line in lines:\n",
    "        sum = cond2[line[0]+line[2]]+strategy2[line[2]]+sum\n",
    "print(sum)"
   ]
  },
  {
   "cell_type": "markdown",
   "metadata": {},
   "source": [
    "## day3part1"
   ]
  },
  {
   "cell_type": "code",
   "execution_count": 215,
   "metadata": {},
   "outputs": [
    {
     "name": "stdout",
     "output_type": "stream",
     "text": [
      "7850\n"
     ]
    }
   ],
   "source": [
    "with open('day3part1.txt', 'r', encoding=\"utf-8\") as f:\n",
    "    lines = f.readlines()\n",
    "    sum_results = 0\n",
    "    for line in lines:\n",
    "        a=line[0:int((len(line)-1)/2)]\n",
    "        b=line[int((len(line)-1)/2):int(len(line))]\n",
    "        common = str(set(a).intersection(set(b)))\n",
    "        if common[2].isupper():\n",
    "            sum_results = sum_results + ord(common[2])- (ord('A')-1-26)\n",
    "        else:\n",
    "            sum_results = sum_results + ord(common[2])- (ord('a')-1)\n",
    "    print(sum_results)"
   ]
  },
  {
   "cell_type": "code",
   "execution_count": 213,
   "metadata": {},
   "outputs": [
    {
     "data": {
      "text/plain": [
       "(97, 65)"
      ]
     },
     "execution_count": 213,
     "metadata": {},
     "output_type": "execute_result"
    }
   ],
   "source": [
    "ord('a'), ord('A')"
   ]
  },
  {
   "cell_type": "markdown",
   "metadata": {},
   "source": [
    "## day3part2"
   ]
  },
  {
   "cell_type": "code",
   "execution_count": 217,
   "metadata": {},
   "outputs": [
    {
     "name": "stdout",
     "output_type": "stream",
     "text": [
      "2581\n"
     ]
    }
   ],
   "source": [
    "with open('day3part1.txt', 'r', encoding=\"utf-8\") as f:\n",
    "    lines = f.readlines()\n",
    "    line_count = 1\n",
    "    temp_list = []\n",
    "    sum_results = 0\n",
    "    for line in lines:\n",
    "        temp_list.append(set(line[0:len(line)-1]))\n",
    "        if line_count%3 != 0:\n",
    "            line_count = line_count + 1\n",
    "        else:\n",
    "            common_element = temp_list[0].intersection(temp_list[1]).intersection(temp_list[2]).pop()\n",
    "            if common_element.isupper():\n",
    "                sum_results = sum_results + ord(common_element)-(ord('A')-1-26)\n",
    "            else:\n",
    "                sum_results = sum_results + ord(common_element)-(ord('a')-1)\n",
    "            temp_list = []\n",
    "            line_count = line_count + 1\n",
    "    print(sum_results)"
   ]
  },
  {
   "cell_type": "markdown",
   "metadata": {},
   "source": [
    "## day4part1"
   ]
  },
  {
   "cell_type": "code",
   "execution_count": 253,
   "metadata": {},
   "outputs": [
    {
     "name": "stdout",
     "output_type": "stream",
     "text": [
      "657\n"
     ]
    }
   ],
   "source": [
    "with open('day4part1.txt', 'r', encoding=\"utf-8\") as f:\n",
    "    lines = f.readlines()\n",
    "    count = 0\n",
    "    for line in lines:\n",
    "        position_comma = line.index(',')\n",
    "        position_hyphen = [i for i, e in enumerate(line) if e == '-']\n",
    "        elf_one_start = int(line[0:position_hyphen[0]])\n",
    "        elf_one_end = int(line[position_hyphen[0]+1:position_comma])\n",
    "        elf_two_start = int(line[position_comma+1:position_hyphen[1]])\n",
    "        elf_two_end = int(line[position_hyphen[1]+1:])\n",
    "        if (elf_one_start <= elf_two_start and elf_one_end >= elf_two_end) or (elf_one_start >= elf_two_start and elf_one_end <= elf_two_end):\n",
    "            count = count + 1\n",
    "    print(count)"
   ]
  },
  {
   "cell_type": "markdown",
   "metadata": {},
   "source": [
    "## day4part2"
   ]
  },
  {
   "cell_type": "code",
   "execution_count": 266,
   "metadata": {},
   "outputs": [
    {
     "name": "stdout",
     "output_type": "stream",
     "text": [
      "938\n"
     ]
    }
   ],
   "source": [
    "with open('day4part1.txt', 'r', encoding=\"utf-8\") as f:\n",
    "    lines = f.readlines()\n",
    "    count = 0\n",
    "    for line in lines:\n",
    "        position_comma = line.index(',')\n",
    "        position_hyphen = [i for i, e in enumerate(line) if e == '-']\n",
    "        elf_one_start = int(line[0:position_hyphen[0]])\n",
    "        elf_one_end = int(line[position_hyphen[0]+1:position_comma])\n",
    "        elf_two_start = int(line[position_comma+1:position_hyphen[1]])\n",
    "        elf_two_end = int(line[position_hyphen[1]+1:])\n",
    "        if (elf_one_start >= elf_two_start and elf_one_start <= elf_two_end) or (elf_one_end >= elf_two_start and elf_one_end <= elf_two_end)\\\n",
    "        or (elf_one_start <= elf_two_start and elf_one_end >= elf_two_end):\n",
    "            count = count + 1\n",
    "    print(count)"
   ]
  },
  {
   "cell_type": "markdown",
   "metadata": {},
   "source": [
    "## day5part1 and part2"
   ]
  },
  {
   "cell_type": "code",
   "execution_count": 65,
   "metadata": {},
   "outputs": [],
   "source": [
    "def initialise_pile (pile_number, lines):\n",
    "    i = 1\n",
    "    pile_list = [[]]\n",
    "    while i < pile_number:\n",
    "        pile_list = pile_list + [[]]\n",
    "        i = i + 1\n",
    "\n",
    "#     read the pile\n",
    "    for line in lines:\n",
    "        if line != '\\n' and line[1].isnumeric() != True:\n",
    "            position_letter_start = [i for i, e in enumerate(line) if e == '[']\n",
    "            while position_letter_start!=[]:\n",
    "                position = position_letter_start.pop(0)\n",
    "                element = [line[position+1]]\n",
    "                step = 4\n",
    "                i = 0\n",
    "                while i < 9:\n",
    "                    if position == i * step:\n",
    "                        pile_list[i] = pile_list[i] + element \n",
    "                    i = i + 1\n",
    "        else:\n",
    "            break\n",
    "    return pile_list\n",
    "\n",
    "\n",
    "def move_action (number_of_move, from_pile, to_pile):\n",
    "    fraction_of_pile_to_be_moved = from_pile[0:number_of_move]\n",
    "    from_pile = from_pile[number_of_move:]\n",
    "    to_pile = fraction_of_pile_to_be_moved + to_pile\n",
    "    return from_pile, to_pile\n",
    "\n",
    "def get_top_of_pile (number_of_pile, list_of_pile):\n",
    "    result = ''\n",
    "    i = 0\n",
    "    while i < number_of_pile:\n",
    "        result = result + list_of_pile[i][0]\n",
    "        i = i + 1\n",
    "    return result\n",
    "\n",
    "def get_instruction (instruction_line):\n",
    "    index_from = line.index('from')\n",
    "    index_to = line.index('to')\n",
    "    move_number = int(line[5:index_from-1])\n",
    "    move_from_pile = int(line[index_from+len('from')+1:index_to-1])\n",
    "    move_to_pile = int(line[index_to+len('to')+1:])\n",
    "    return move_number, move_from_pile, move_to_pile\n",
    "\n",
    "\n",
    "def get_part_solution(part):\n",
    "    with open('day5part1.txt','r', encoding='utf-8') as f:\n",
    "        lines = f.readlines()\n",
    "\n",
    "    #     initialise the pile \n",
    "        pile_number = 9\n",
    "        pile_list = initialise_pile(pile_number, lines)\n",
    "\n",
    "#         get instruction and move\n",
    "        for line in lines:\n",
    "            if line[0] == 'm':\n",
    "                move_number, move_from_pile, move_to_pile = get_instruction(line)\n",
    "\n",
    "                if part == 1:\n",
    "    #             part1\n",
    "                    while move_number >0:\n",
    "                        pile_list[move_from_pile -1], pile_list[move_to_pile -1] = \\\n",
    "                    move_action(1, pile_list[move_from_pile -1 ], pile_list[move_to_pile-1])\n",
    "                        move_number = move_number -1\n",
    "\n",
    "    #             part2 \n",
    "                elif part == 2:\n",
    "                    pile_list[move_from_pile-1], pile_list[move_to_pile - 1] =\\\n",
    "                move_action(move_number, pile_list[move_from_pile-1], pile_list[move_to_pile -1])\n",
    "\n",
    "        result = get_top_of_pile (pile_number, pile_list)\n",
    "\n",
    "        print(result)\n",
    "    "
   ]
  },
  {
   "cell_type": "code",
   "execution_count": 58,
   "metadata": {},
   "outputs": [
    {
     "name": "stdout",
     "output_type": "stream",
     "text": [
      "SHQWSRBDL\n",
      "CDTQZHBRS\n"
     ]
    }
   ],
   "source": [
    "get_part_solution(1)\n",
    "get_part_solution(2)"
   ]
  },
  {
   "cell_type": "markdown",
   "metadata": {},
   "source": [
    "## day6"
   ]
  },
  {
   "cell_type": "code",
   "execution_count": 63,
   "metadata": {},
   "outputs": [
    {
     "name": "stdout",
     "output_type": "stream",
     "text": [
      "1140\n",
      "3495\n"
     ]
    }
   ],
   "source": [
    "def get_part_solution(part_number):\n",
    "    if part_number == 1:\n",
    "        signal_starter_length = 4\n",
    "    elif part_number == 2: \n",
    "        signal_starter_length = 14\n",
    "    with open('day6part1.txt','r', encoding='utf-8') as f:\n",
    "        lines = f.readlines()\n",
    "        signal = list(lines[0])\n",
    "        check_set = []\n",
    "        start_index = 0\n",
    "        for i in range(0,len(signal)-signal_starter_length):\n",
    "            list_check = signal[i:i+signal_starter_length]\n",
    "            if len(list_check) == len(set(list_check)):\n",
    "                print (i+signal_starter_length)\n",
    "                break\n",
    "\n",
    "get_part_solution(1)\n",
    "get_part_solution(2)\n"
   ]
  },
  {
   "cell_type": "markdown",
   "metadata": {},
   "source": [
    "## day7"
   ]
  },
  {
   "cell_type": "markdown",
   "metadata": {},
   "source": [
    "### day7par1"
   ]
  },
  {
   "cell_type": "code",
   "execution_count": 280,
   "metadata": {},
   "outputs": [],
   "source": [
    "class node:\n",
    "    def __init__(self, name, size=0):\n",
    "        self.name = name \n",
    "        self.size = size # data\n",
    "        self.children = {} # references to other nodes\n",
    "        self.parent = None\n",
    "\n",
    "    def add_child(self, child_node):\n",
    "        # creates parent-child relationship\n",
    "        self.children[child_node.name] = child_node\n",
    "        child_node.parent=self\n",
    "       \n",
    "    def __str__(self, level=0):\n",
    "        ret = \"\\t\"*level+repr(self.name)+ ':' + repr(self.size)+\"\\n\"\n",
    "        for child in self.children.items():\n",
    "            ret += child[1].__str__(level+1)\n",
    "        return ret\n",
    "\n",
    "    def __repr__(self):\n",
    "        return '<tree node representation>'\n"
   ]
  },
  {
   "cell_type": "code",
   "execution_count": 335,
   "metadata": {},
   "outputs": [],
   "source": [
    "def build_the_tree(element, i, lines):\n",
    "    while i<len(lines):\n",
    "        current_line = lines[i]\n",
    "        if current_line[0:4] == '$ cd' and current_line[5]!='.':\n",
    "            temp_node = node(current_line[current_line.index('d ')+2:-1], 0)\n",
    "            element.add_child(temp_node)\n",
    "            i = parse(temp_node, i+1, lines)\n",
    "        elif current_line[0].isnumeric():\n",
    "            temp_node = node(current_line[current_line.index(' ')+1:-1], int(current_line[0:current_line.index(' ')]))\n",
    "            element.add_child(temp_node)\n",
    "            i = i+1\n",
    "        elif current_line[0:4] == '$ cd' and current_line[5]=='.':\n",
    "            return i+1\n",
    "        else: i = i + 1\n",
    "    return i\n",
    "\n",
    "def visit_node(ref_node):\n",
    "    if len(ref_node.children) == 0:\n",
    "        return ref_node.size\n",
    "    else: \n",
    "        base_size = 0\n",
    "        for k, n in ref_node.children.items():\n",
    "            base_size = base_size + visit_node(n)\n",
    "        ref_node.size = base_size\n",
    "        return base_size \n",
    "\n",
    "def check_node_size(ref_node, base_size):\n",
    "    if len(ref_node.children) != 0:\n",
    "        if ref_node.size <= threshhold:\n",
    "            base_size = base_size + ref_node.size\n",
    "        for k, n in ref_node.children.items():\n",
    "            base_size = check_node_size(n, base_size)\n",
    "    return base_size "
   ]
  },
  {
   "cell_type": "code",
   "execution_count": 477,
   "metadata": {},
   "outputs": [
    {
     "name": "stdout",
     "output_type": "stream",
     "text": [
      "1350966\n"
     ]
    }
   ],
   "source": [
    "with open('day7part1.txt','r', encoding='utf-8') as f:\n",
    "    lines = f.readlines()\n",
    "    threshhold = 100000\n",
    "\n",
    "    a = node('root')\n",
    "    \n",
    "    build_the_tree(a, 0, lines)\n",
    "     \n",
    "#     print(a)\n",
    "    visit_node(a)\n",
    "#     print(a)\n",
    "    \n",
    "    base_size = 0\n",
    "    sumsize = check_node_size(a, base_size)\n",
    "    print(sumsize)\n"
   ]
  },
  {
   "cell_type": "markdown",
   "metadata": {},
   "source": [
    "### part2"
   ]
  },
  {
   "cell_type": "code",
   "execution_count": 479,
   "metadata": {},
   "outputs": [
    {
     "name": "stdout",
     "output_type": "stream",
     "text": [
      "min_size_to_be_delete:  6233734\n",
      "root size:  46233734\n",
      "6296435\n"
     ]
    }
   ],
   "source": [
    "total_available_size = 70000000\n",
    "min_needed_size = 30000000\n",
    "size_unused = total_available_size - a.size\n",
    "min_size_to_be_delete = min_needed_size-size_unused\n",
    "\n",
    "dir_size = a.size\n",
    "\n",
    "def check_which_to_delete_size(ref_node, dir_size):\n",
    "    if len(ref_node.children) != 0:\n",
    "        if ref_node.size >= min_size_to_be_delete:\n",
    "            dir_size = min(dir_size, ref_node.size)\n",
    "        for k, n in ref_node.children.items():\n",
    "            dir_size = check_which_to_delete_size(n, dir_size)\n",
    "    return dir_size \n",
    "\n",
    "delete_min_size = check_which_to_delete_size(a, dir_size)\n",
    "print(delete_min_size)"
   ]
  },
  {
   "cell_type": "markdown",
   "metadata": {},
   "source": [
    "## day8 "
   ]
  },
  {
   "cell_type": "code",
   "execution_count": 485,
   "metadata": {},
   "outputs": [
    {
     "name": "stdout",
     "output_type": "stream",
     "text": [
      "part1: 1560\n",
      "part2: 252000\n"
     ]
    }
   ],
   "source": [
    "def get_row_col(lines):\n",
    "    row_len = len(lines)\n",
    "    col_len = len(lines[0])-1 \n",
    "    row = []\n",
    "    col = [[] for i in range(col_len)]\n",
    "    i = 0\n",
    "    j = 0\n",
    "    for line in lines:\n",
    "        row.append(list(line)[0:-1])\n",
    "        for j in range(0,col_len):\n",
    "            col[j]= col[j]+ [list(line)[j]]\n",
    "        i = i + 1\n",
    "    return row, col\n",
    "\n",
    "\n",
    "def check_if_seen_from_start(list_input):\n",
    "    max_index = list_input.index(max(list_input))\n",
    "    if max_index < len(list_input)-1:\n",
    "        return False\n",
    "    return True\n",
    "\n",
    "def check_if_seen_from_end(list_input):\n",
    "    list_input.reverse()\n",
    "    return check_if_seen_from_start(list_input)\n",
    "\n",
    "def check_distance_from_start(list_input):\n",
    "    distance = 0\n",
    "    for i in range(0,len(list_input)-1):\n",
    "        check_element = list_input[-i-2]\n",
    "        rest_of_list = list_input[len(list_input)-i-1:]\n",
    "        cond =  check_element< max(rest_of_list)\n",
    "        if cond:\n",
    "            distance = distance + 1\n",
    "        else:\n",
    "            distance = distance + 1\n",
    "            break\n",
    "\n",
    "    return distance\n",
    "\n",
    "def check_distance_from_end(list_input):\n",
    "    list_input.reverse()\n",
    "    return check_distance_from_start(list_input)\n",
    "\n",
    "\n",
    "with open('day8part1.txt','r', encoding='utf-8') as f:\n",
    "    lines = f.readlines()\n",
    "    row, col = get_row_col(lines)\n",
    "    result = 0\n",
    "    score_list =[]\n",
    "    max_row_number = len(row)\n",
    "    max_col_number = len(col)\n",
    "    \n",
    "    for i in range(0,max_row_number):\n",
    "        for j in range(0,max_col_number):\n",
    "            beginning_of_row = row[i][0:j+1]\n",
    "            end_of_row = row[i][j:]\n",
    "            top_of_col = col[j][0:i+1]\n",
    "            bottom_of_col = col[j][i:]\n",
    "#             part1\n",
    "            if check_if_seen_from_start(beginning_of_row) or check_if_seen_from_end(end_of_row) or \\\n",
    "            check_if_seen_from_start(top_of_col) or check_if_seen_from_end(bottom_of_col):\n",
    "                result = result + 1\n",
    "#             part2\n",
    "            score = check_distance_from_start(beginning_of_row)\\\n",
    "                    *check_distance_from_end(end_of_row) * check_distance_from_start(top_of_col)\\\n",
    "                     * check_distance_from_end(bottom_of_col)\n",
    "            score_list = score_list + [score]\n",
    "            restuls2 = max(score_list)\n",
    "            \n",
    "    print('part1:',result)\n",
    "    print('part2:',restuls2)\n",
    "\n",
    "    \n",
    "    "
   ]
  },
  {
   "cell_type": "markdown",
   "metadata": {},
   "source": [
    "## day9"
   ]
  },
  {
   "cell_type": "markdown",
   "metadata": {},
   "source": [
    "### common function"
   ]
  },
  {
   "cell_type": "code",
   "execution_count": 495,
   "metadata": {},
   "outputs": [],
   "source": [
    "    def get_instruction (line_number, lines):\n",
    "        return lines[line_number][0],int(lines[line_number][2:])\n",
    "\n",
    "\n",
    "    def check_if_knot_need_to_move(H, T):\n",
    "        delta_x = H[-1][0]- T[-1][0]\n",
    "        delta_y = H[-1][1]- T[-1][1]\n",
    "        if delta_x * delta_x + delta_y * delta_y >= 3:\n",
    "            return True\n",
    "        else: return False\n",
    "    \n",
    "    def move_dir(P, horizontal, vertical):\n",
    "        P = P+ [[P[-1][0]+vertical, P[-1][1]+horizontal]]\n",
    "        return P\n",
    "\n",
    "    \n",
    "    def move_next_knot(H, T):\n",
    "        H_current_position = H[-1]\n",
    "        T_current_position = T[-1]\n",
    "        if H_current_position[0]== T_current_position[0]:\n",
    "            if (H_current_position[1]- T_current_position[1])>0: # move up\n",
    "                T = move_dir(T, 1, 0)\n",
    "            else: T = move_dir(T, -1, 0)\n",
    "        elif H_current_position[1]== T_current_position[1]:\n",
    "            if (H_current_position[0]- T_current_position[0])>0: # move right\n",
    "                T = move_dir(T, 0, 1)\n",
    "            else: T = move_dir(T, 0, -1)\n",
    "        elif (H_current_position[0] - T_current_position[0])>0 and (H_current_position[1] - T_current_position[1])>0: # move up right\n",
    "            T = move_dir(T, 1, 1)\n",
    "        elif (H_current_position[0] - T_current_position[0])>0 and (H_current_position[1] - T_current_position[1])<0: # move down right\n",
    "            T = move_dir(T, -1, 1)\n",
    "        elif (H_current_position[0] - T_current_position[0])<0 and (H_current_position[1] - T_current_position[1])>0: # move up left \n",
    "            T = move_dir(T, 1, -1)\n",
    "        elif (H_current_position[0] - T_current_position[0])<0 and (H_current_position[1] - T_current_position[1])<0: # move down left\n",
    "            T = move_dir(T, -1, -1)\n",
    "        return T\n",
    "    \n",
    "    \n",
    "\n",
    "    def check_and_do_the_move(position, step_num, rope_length, direction_dict_value):\n",
    "        for j in range(0,step_num):\n",
    "            position[0] = move_dir(position[0],direction_dict_value[0],direction_dict_value[1])\n",
    "            for knot_i in range(1,rope_length):\n",
    "                if check_if_knot_need_to_move(position[knot_i-1], position[knot_i]):\n",
    "                    position[knot_i] = move_next_knot(position[knot_i-1], position[knot_i])\n",
    "        return position\n",
    "\n",
    "    def get_result (lines, length_of_rope):\n",
    "            knot_position= [[[0,0]] for i in range(0,length_of_rope)]\n",
    "            i = 0\n",
    "            direction_increment_dict = {'R':[0,1], 'L':[0,-1], 'U': [1,0], 'D':[-1, 0]}\n",
    "            while i < len(lines):\n",
    "\n",
    "                move_direction, move_step = get_instruction(i, lines)\n",
    "                knot_position = check_and_do_the_move(knot_position, move_step, length_of_rope, direction_increment_dict[move_direction])\n",
    "                i = i+1\n",
    "\n",
    "            return len(set(tuple(row) for row in knot_position[-1]))\n"
   ]
  },
  {
   "cell_type": "code",
   "execution_count": 496,
   "metadata": {},
   "outputs": [
    {
     "name": "stdout",
     "output_type": "stream",
     "text": [
      "part 1 results:  6354\n",
      "part 2 results:  2651\n"
     ]
    }
   ],
   "source": [
    "with open('day9_example2.txt','r', encoding='utf-8') as f:\n",
    "    lines = f.readlines()\n",
    "    results1 = get_result (lines, 2)\n",
    "    print('part 1 results: ', results1)\n",
    "    results2 = get_result (lines, 10)\n",
    "    print('part 2 results: ', results2)"
   ]
  },
  {
   "cell_type": "markdown",
   "metadata": {},
   "source": [
    "## day10"
   ]
  },
  {
   "cell_type": "code",
   "execution_count": 481,
   "metadata": {},
   "outputs": [
    {
     "name": "stdout",
     "output_type": "stream",
     "text": [
      "13740\n"
     ]
    }
   ],
   "source": [
    "def check_during_cycle_value(register_list, cycle_number):\n",
    "\n",
    "    if register_list[cycle_number]!= register_list[cycle_number-1]:\n",
    "        return register_list[cycle_number-1]\n",
    "    else: return register_list[cycle_number]\n",
    "\n",
    "with open('day10.txt','r', encoding='utf-8') as f:\n",
    "    lines = f.readlines()\n",
    "    register = [1]\n",
    "\n",
    "    check_n = [20,60,100,140,180,220]\n",
    "    for line in lines:\n",
    "        if line[0:3]=='add':\n",
    "            register = register + [register[-1]]\n",
    "            register = register + [register[-1]+int(line[5:])]\n",
    "        else:\n",
    "            register = register + [register[-1]]\n",
    "       \n",
    "    results = 0\n",
    "    for i in range(0,6):\n",
    "        results = results + check_during_cycle_value(register, check_n[i])*check_n[i]\n",
    "    print(results)\n",
    "        \n",
    "        "
   ]
  },
  {
   "cell_type": "markdown",
   "metadata": {},
   "source": [
    "### part2"
   ]
  },
  {
   "cell_type": "code",
   "execution_count": 489,
   "metadata": {},
   "outputs": [
    {
     "name": "stdout",
     "output_type": "stream",
     "text": [
      "####.#..#.###..###..####.####..##..#...\n",
      "...#.#..#.#..#.#..#.#....#....#..#.#...\n",
      "..#..#..#.#..#.#..#.###..###..#....#...\n",
      ".#...#..#.###..###..#....#....#....#...\n",
      "#....#..#.#....#.#..#....#....#..#.#...\n",
      "####..##..#....#..#.#....####..##..####\n"
     ]
    }
   ],
   "source": [
    "crt = ['.' for i in range(0,240)]\n",
    "sprite = [[i-1,i,i+1] for i in register]\n",
    "\n",
    "for i in range(0,240):\n",
    "    if i%40 in sprite[i]:\n",
    "        crt[i]= '#'\n",
    "        \n",
    "for x in range(0,6):\n",
    "    print(''.join(crt[x*40:x*40+39]))"
   ]
  },
  {
   "cell_type": "markdown",
   "metadata": {},
   "source": [
    "## day11"
   ]
  },
  {
   "cell_type": "code",
   "execution_count": 2,
   "metadata": {},
   "outputs": [],
   "source": [
    "import copy"
   ]
  },
  {
   "cell_type": "code",
   "execution_count": 7,
   "metadata": {},
   "outputs": [
    {
     "name": "stdout",
     "output_type": "stream",
     "text": [
      "10605\n"
     ]
    }
   ],
   "source": [
    "with open('day11_test.txt','r', encoding='utf-8') as f:\n",
    "    lines = f.readlines()\n",
    "    round_number = 20\n",
    "\n",
    "#     set initial state and read policy\n",
    "    starting_items = []\n",
    "    test_cond = []\n",
    "    test_true = []\n",
    "    test_false = []\n",
    "    operation_type = []\n",
    "    operation_value = []\n",
    "    \n",
    "    def get_monkey_business(list):\n",
    "        list.sort()\n",
    "        return list[-2]*list[-1]\n",
    "    \n",
    "    for line in lines:\n",
    "        if line[0:3] == '  S':\n",
    "            temp_string = line[18:].split(',')\n",
    "            temp_int = [eval(i) for i in temp_string]\n",
    "            starting_items = starting_items + [temp_int]\n",
    "        elif line[0:3] == '  O':\n",
    "            if line[25]!= 'o':\n",
    "                operation_type = operation_type +[line[23]]\n",
    "                operation_value = operation_value +[int(line[25:])]\n",
    "            else:\n",
    "                operation_type = operation_type +['^']\n",
    "                operation_value = operation_value +[2]\n",
    "        elif line[0:3] == '  T':\n",
    "            test_cond = test_cond + [int(line[21:])]\n",
    "        elif line[7:11] == 'true':\n",
    "            test_true = test_true + [int(line[29:])]\n",
    "        elif line[7:11] == 'fals':\n",
    "            test_false= test_false + [int(line[30:])]\n",
    "\n",
    "    inspection_num =[0 for i in list(starting_items)]\n",
    "\n",
    "    for i in range(0, round_number):\n",
    "\n",
    "        for monkey_number in range(0, len(starting_items)):\n",
    "            inspection_num[monkey_number] = inspection_num[monkey_number] + len(starting_items[monkey_number])\n",
    "            if starting_items[monkey_number] == []:\n",
    "                starting_items = starting_items\n",
    "            else: \n",
    "                check_list = copy.deepcopy(starting_items[monkey_number])\n",
    "                for item_worry_level in check_list:\n",
    "\n",
    "                    if operation_type[monkey_number]=='*':\n",
    "                        item_worry_level = item_worry_level* operation_value[monkey_number]\n",
    "                    elif operation_type[monkey_number]=='+':\n",
    "                        item_worry_level = item_worry_level + operation_value[monkey_number]\n",
    "                    elif operation_type[monkey_number]=='^':\n",
    "                        item_worry_level = item_worry_level * item_worry_level\n",
    "\n",
    "#                     print(i, item_worry_level)\n",
    "                    item_worry_level = int(item_worry_level//3)\n",
    "\n",
    "\n",
    "                    if len(starting_items[monkey_number])>1:\n",
    "                        starting_items[monkey_number].pop(0)\n",
    "                        if item_worry_level%test_cond[monkey_number] == 0:\n",
    "                            starting_items[test_true[monkey_number]] = starting_items[test_true[monkey_number]] + [item_worry_level]\n",
    "                        else:\n",
    "                            starting_items[test_false[monkey_number]] = starting_items[test_false[monkey_number]] + [item_worry_level]\n",
    "\n",
    "                    else:\n",
    "\n",
    "                        if item_worry_level%test_cond[monkey_number] == 0:\n",
    "                            starting_items[test_true[monkey_number]] = starting_items[test_true[monkey_number]] + [item_worry_level]\n",
    "                        else:\n",
    "                            starting_items[test_false[monkey_number]] = starting_items[test_false[monkey_number]] + [item_worry_level]\n",
    "\n",
    "                        starting_items[monkey_number] = []\n",
    "    # print(starting_items)\n",
    "    # print(inspection_num)\n",
    "\n",
    "\n",
    "    print(get_monkey_business(inspection_num))\n",
    "\n",
    "\n"
   ]
  },
  {
   "cell_type": "code",
   "execution_count": 8,
   "metadata": {},
   "outputs": [],
   "source": [
    "# 2713310158 \n",
    "\n",
    "\n",
    "# Monkey 0 inspected items 52166 times.\n",
    "# Monkey 1 inspected items 47830 times.\n",
    "# Monkey 2 inspected items 1938 times.\n",
    "# Monkey 3 inspected items 52013 times."
   ]
  },
  {
   "cell_type": "markdown",
   "metadata": {},
   "source": [
    "## day12"
   ]
  },
  {
   "cell_type": "code",
   "execution_count": 282,
   "metadata": {},
   "outputs": [
    {
     "name": "stdout",
     "output_type": "stream",
     "text": [
      "part 1 results:  425\n",
      "part 2 results:  418\n"
     ]
    }
   ],
   "source": [
    "\n",
    "def read_in_grid (lines):\n",
    "    i = 0\n",
    "    grid =[]\n",
    "    for line in lines:\n",
    "        if 'S' in line[:-1]:\n",
    "            starting_index_x = i\n",
    "            starting_index_y = line[:-1].index('S')\n",
    "            line = line.replace('S','a')\n",
    "        if 'E' in line[:-1]:\n",
    "            end_index_x = i\n",
    "            end_index_y = line[:-1].index('E')\n",
    "            line = line.replace('E','z')\n",
    "        line = line.replace('\\n','')\n",
    "        grid = grid + [line]\n",
    "        i = i + 1\n",
    "    return grid, starting_index_x, starting_index_y, end_index_x, end_index_y\n",
    "\n",
    "\n",
    "def find_best_path(grid, start, goal):\n",
    "    width, height = len(grid[0]), len(grid)\n",
    "\n",
    "    queue = [[start]]\n",
    "    seen = [start]\n",
    "    while queue:\n",
    "        path = queue.pop(0)\n",
    "        x = path[-1][0]\n",
    "        y = path[-1][1]\n",
    "\n",
    "        if x == goal[0] and y == goal[1]:\n",
    "            return len(path)-1\n",
    "        for [x2, y2] in [[x+1,y], [x-1,y], [x,y+1], [x,y-1]]:\n",
    "\n",
    "            if 0 <= x2 < height and 0 <= y2 < width:\n",
    "                if ord(grid[x2][y2]) - ord(grid[x][y])<=1 and [x2, y2] not in seen:\n",
    "                    queue.append(path + [[x2, y2]])\n",
    "                    seen = seen + [[x2, y2]]\n",
    "                    \n",
    "                    \n",
    "def find_possible_starting_points (lines):\n",
    "    possible_starting_points = [[]]\n",
    "    i = 0\n",
    "    for line in lines:\n",
    "        if 'a' in line:\n",
    "            possible_starting_points = possible_starting_points + [[i,line.index('a')]] \n",
    "        i = i + 1\n",
    "    return possible_starting_points[1:]\n",
    "\n",
    "\n",
    "def find_shortest_path_among_all_possible_starting_points(grid, other_possible_starting_points, starting_index_x,starting_index_y, end_index_x,end_index_y):\n",
    "    possible_path_length = []\n",
    "    for starting_point in other_possible_starting_points+[[starting_index_x,starting_index_y]]:\n",
    "        length = find_best_path(grid, [starting_point[0],starting_point[1]], [end_index_x,end_index_y])\n",
    "        if possible_path_length is not None:\n",
    "            possible_path_length = possible_path_length + [length] \n",
    "    \n",
    "    cleaned_possible_path_length = [x for x in possible_path_length if x is not None]\n",
    "\n",
    "    return min(cleaned_possible_path_length)\n",
    "\n",
    "\n",
    "with open('day12.txt','r', encoding='utf-8') as f:\n",
    "    lines = f.readlines()\n",
    "    \n",
    "    grid, starting_index_x, starting_index_y, end_index_x, end_index_y = read_in_grid (lines)\n",
    "    shortest_path_from_fixed_starting_points = find_best_path(grid, [starting_index_x,starting_index_y], [end_index_x,end_index_y])\n",
    "    print('part 1 results: ', shortest_path_from_fixed_starting_points)\n",
    "    \n",
    "    other_possible_starting_points = find_possible_starting_points(lines)\n",
    "    shortest_path_among_all_possible_starting_points = find_shortest_path_among_all_possible_starting_points(grid, other_possible_starting_points, starting_index_x,starting_index_y, end_index_x,end_index_y)\n",
    "    print('part 2 results: ', shortest_path_among_all_possible_starting_points)\n"
   ]
  },
  {
   "cell_type": "markdown",
   "metadata": {},
   "source": [
    "## day13"
   ]
  },
  {
   "cell_type": "code",
   "execution_count": 294,
   "metadata": {},
   "outputs": [],
   "source": [
    "\n",
    "\n",
    "def read_left_right_signals(text):\n",
    "    pair_number = 0\n",
    "    line_number = 0\n",
    "\n",
    "    total_pair_number = len(text)//3 + 1\n",
    "    left = [[] for i in range(0, total_pair_number)]\n",
    "    right = [[] for i in range(0, total_pair_number)]\n",
    "\n",
    "    while pair_number < total_pair_number and line_number < len(text):\n",
    "        if text[line_number].strip() == '':\n",
    "            pair_number += 1\n",
    "            line_number += 1\n",
    "        else:\n",
    "            left[pair_number] = eval(text[line_number])\n",
    "            right[pair_number] = eval(text[line_number + 1])\n",
    "            line_number += 2\n",
    "    return left, right\n",
    "\n",
    "\n",
    "\n",
    "\n",
    "def sum_correct_indices (left_list, right_list):\n",
    "    correct_number = 0\n",
    "    for pair_number in range(1, len(left_list)+1):\n",
    "        if compare_list(left_list[pair_number-1], right_list[pair_number-1]):\n",
    "            print(pair_number)\n",
    "            correct_number += pair_number\n",
    "    return correct_number\n",
    "\n",
    "\n",
    "def compare_individual_int(a, b):\n",
    "    if a > b:\n",
    "        return False\n",
    "    else: \n",
    "        return True\n",
    "    "
   ]
  },
  {
   "cell_type": "code",
   "execution_count": 291,
   "metadata": {},
   "outputs": [],
   "source": [
    "import pdb"
   ]
  },
  {
   "cell_type": "code",
   "execution_count": 328,
   "metadata": {},
   "outputs": [],
   "source": [
    "\n",
    "    \n",
    "\n",
    "    \n",
    "# def compare_list(signal_left, signal_right):\n",
    "#     print('signal_left, ', signal_left, 'signal_right, ', signal_right)\n",
    "#     if len(signal_left) > 0 and len(signal_right) == 0:\n",
    "# #         print('1')\n",
    "\n",
    "#         return False\n",
    "#     elif len(signal_left) == 0 and len(signal_right) >= 0:\n",
    "#         print('2')\n",
    "#         return True\n",
    "# #     elif len(signal_left) == 0 and len(signal_right) == 0:\n",
    "# #         print('3')\n",
    "# #         return compare    \n",
    "\n",
    "#     else:\n",
    "\n",
    "#         pop_left = signal_left.pop(0)\n",
    "#         pop_right = signal_right.pop(0)\n",
    "#         print('pop_left, ', pop_left, 'pop_right, ', pop_right)\n",
    "#         if isinstance(pop_left, int) and isinstance(pop_right, int): # both are integral \n",
    "#             if not compare_individual_int(pop_left, pop_right):\n",
    "#                 return False\n",
    "#             else:\n",
    "#                 return compare_list(signal_left, signal_right)\n",
    "#         elif isinstance(pop_left, int) and isinstance(pop_right, list): # one is list\n",
    "#              return compare_list (list(range(pop_left, pop_left+1)), pop_right)\n",
    "#         elif isinstance(pop_left, list) and isinstance(pop_right, int): # one is list\n",
    "#                 return  compare_list (pop_left, list(range(pop_right, pop_right+1)))\n",
    "\n",
    "#         elif isinstance(pop_left, list) and isinstance(pop_right, list): # both are integral \n",
    "#             new_left = pop_left\n",
    "#             new_right = pop_right\n",
    "#             return compare_list(new_left, new_right)\n",
    "        \n",
    "def compare_list(signal_left, signal_right):\n",
    "#     print('signal_left, ', signal_left, 'signal_right, ', signal_right)\n",
    "    state = True\n",
    "    \n",
    "    if len(signal_left) > 0 and len(signal_right) == 0:\n",
    "        return False\n",
    "    elif len(signal_left) == 0 and len(signal_right) < 0:\n",
    "        return True\n",
    "    \n",
    "    while state == True and len(signal_left)> 0 and len(signal_right)>0 :\n",
    "#         print('in while signal_left, ', signal_left, 'signal_right, ', signal_right)\n",
    "\n",
    "        pop_left = signal_left.pop(0)\n",
    "        pop_right = signal_right.pop(0)\n",
    "#         print('pop_left, ', pop_left, 'pop_right, ', pop_right)\n",
    "        if isinstance(pop_left, int) and isinstance(pop_right, int): # both are integral \n",
    "#             state = compare_individual_int(pop_left, pop_right)\n",
    "#             if not state:\n",
    "#                 return False\n",
    "#             else:\n",
    "#                 state = compare_list(signal_left, signal_right)\n",
    "            if len(signal_right) == 0 and len(signal_left)!= 0:\n",
    "                return False\n",
    "            elif len(signal_left) == 0 and len(signal_right) !=0:\n",
    "                return compare_individual_int(pop_left, pop_right)\n",
    "                \n",
    "        elif isinstance(pop_left, int) and isinstance(pop_right, list): # one is list\n",
    "            state = compare_list (list(range(pop_left, pop_left+1)), pop_right)\n",
    "            if not state:\n",
    "                return False\n",
    "            else:\n",
    "                state = compare_list(signal_left, signal_right)\n",
    "        elif isinstance(pop_left, list) and isinstance(pop_right, int): # one is list\n",
    "            state = compare_list (pop_left, list(range(pop_right, pop_right+1)))\n",
    "            if not state:\n",
    "                return False\n",
    "            else:\n",
    "                state = compare_list(signal_left, signal_right)\n",
    "        elif isinstance(pop_left, list) and isinstance(pop_right, list): # both are list \n",
    "#             print('elif pop_left, ', pop_left, 'pop_right, ', pop_right)\n",
    "            new_left = pop_left\n",
    "            new_right = pop_right\n",
    "#             print('call')\n",
    "            state = compare_list(new_left, new_right)\n",
    "#             print('state: ', state)\n",
    "            if not state:\n",
    "                return False\n",
    "\n",
    "    return state\n",
    "\n",
    "\n"
   ]
  },
  {
   "cell_type": "code",
   "execution_count": 329,
   "metadata": {},
   "outputs": [
    {
     "data": {
      "text/plain": [
       "False"
      ]
     },
     "execution_count": 329,
     "metadata": {},
     "output_type": "execute_result"
    }
   ],
   "source": [
    "compare_list([[1], [2, 3, 4]], [[1], 4])"
   ]
  },
  {
   "cell_type": "code",
   "execution_count": 321,
   "metadata": {},
   "outputs": [
    {
     "data": {
      "text/plain": [
       "False"
      ]
     },
     "execution_count": 321,
     "metadata": {},
     "output_type": "execute_result"
    }
   ],
   "source": [
    "True & False"
   ]
  },
  {
   "cell_type": "code",
   "execution_count": 327,
   "metadata": {},
   "outputs": [
    {
     "name": "stdout",
     "output_type": "stream",
     "text": [
      "signal_left,  [1, 1, 3, 1, 1] signal_right,  [1, 1, 5, 1, 1]\n",
      "1\n",
      "signal_left,  [[1], [2, 3, 4]] signal_right,  [[1], 4]\n",
      "signal_left,  [1] signal_right,  [1]\n",
      "signal_left,  [2, 3, 4] signal_right,  [4]\n",
      "signal_left,  [9] signal_right,  [[8, 7, 6]]\n",
      "signal_left,  [9] signal_right,  [8, 7, 6]\n",
      "signal_left,  [[4, 4], 4, 4] signal_right,  [[4, 4], 4, 4, 4]\n",
      "signal_left,  [4, 4] signal_right,  [4, 4]\n",
      "4\n",
      "signal_left,  [7, 7, 7, 7] signal_right,  [7, 7, 7]\n",
      "signal_left,  [] signal_right,  [3]\n",
      "6\n",
      "signal_left,  [[[]]] signal_right,  [[]]\n",
      "signal_left,  [[]] signal_right,  []\n",
      "signal_left,  [1, [2, [3, [4, [5, 6, 7]]]], 8, 9] signal_right,  [1, [2, [3, [4, [5, 6, 0]]]], 8, 9]\n",
      "signal_left,  [2, [3, [4, [5, 6, 7]]]] signal_right,  [2, [3, [4, [5, 6, 0]]]]\n",
      "signal_left,  [3, [4, [5, 6, 7]]] signal_right,  [3, [4, [5, 6, 0]]]\n",
      "signal_left,  [4, [5, 6, 7]] signal_right,  [4, [5, 6, 0]]\n",
      "signal_left,  [5, 6, 7] signal_right,  [5, 6, 0]\n",
      "8\n",
      "19\n"
     ]
    }
   ],
   "source": [
    "with open('day13_test.txt','r', encoding='utf-8') as f:\n",
    "    input_data = f.readlines()\n",
    "    \n",
    "    left, right = read_left_right_signals (input_data)\n",
    "    \n",
    "#     print(left[1])\n",
    "# left=  [[1, 1, 3, 1, 1], [[1], [2, 3, 4]], [9], [[4, 4], 4, 4], [7, 7, 7, 7], [], [[[]]], [1, [2, [3, [4, [5, 6, 7]]]], 8, 9]]\n",
    "# right= [[1, 1, 5, 1, 1], [[1], 4], [[8, 7, 6]], [[4, 4], 4, 4, 4], [7, 7, 7], [3], [[]], [1, [2, [3, [4, [5, 6, 0]]]], 8, 9]]\n",
    "\n",
    "    print(sum_correct_indices(left, right))"
   ]
  },
  {
   "cell_type": "code",
   "execution_count": 88,
   "metadata": {},
   "outputs": [
    {
     "name": "stdout",
     "output_type": "stream",
     "text": [
      "[[1, 1, 3, 1, 1], [[1], [2, 3, 4]], [9], [[4, 4], 4, 4], [7, 7, 7, 7], [], [[[]]], [1, [2, [3, [4, [5, 6, 7]]]], 8, 9]]\n"
     ]
    }
   ],
   "source": [
    "# print(left)"
   ]
  },
  {
   "cell_type": "code",
   "execution_count": 58,
   "metadata": {},
   "outputs": [
    {
     "name": "stdout",
     "output_type": "stream",
     "text": [
      "5206\n"
     ]
    }
   ],
   "source": [
    "with open('day13.txt','r', encoding='utf-8') as f:\n",
    "    input_data = f.readlines()\n",
    "    \n",
    "    left, right = read_left_right_signals (input_data)\n",
    "\n",
    "    print(sum_correct_indices(left, right))"
   ]
  },
  {
   "cell_type": "code",
   "execution_count": null,
   "metadata": {},
   "outputs": [],
   "source": []
  }
 ],
 "metadata": {
  "kernelspec": {
   "display_name": "catsub-env",
   "language": "python",
   "name": "catsub-env"
  },
  "language_info": {
   "codemirror_mode": {
    "name": "ipython",
    "version": 3
   },
   "file_extension": ".py",
   "mimetype": "text/x-python",
   "name": "python",
   "nbconvert_exporter": "python",
   "pygments_lexer": "ipython3",
   "version": "3.7.9"
  }
 },
 "nbformat": 4,
 "nbformat_minor": 4
}
