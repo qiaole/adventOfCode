{
 "cells": [
  {
   "cell_type": "code",
   "execution_count": 1,
   "metadata": {},
   "outputs": [],
   "source": [
    "from utils import *"
   ]
  },
  {
   "cell_type": "code",
   "execution_count": 34,
   "metadata": {},
   "outputs": [],
   "source": [
    "def find_number_in_string (stringa):\n",
    "    return [int(x) for x in re.findall(r'\\d+', stringa)]"
   ]
  },
  {
   "cell_type": "markdown",
   "metadata": {},
   "source": [
    "### ex 1"
   ]
  },
  {
   "cell_type": "code",
   "execution_count": 80,
   "metadata": {},
   "outputs": [],
   "source": [
    "def get_winning_number_list(line):\n",
    "    card_number = find_number_in_string(line.split(\": \")[1].split(' | ')[0])\n",
    "    my_number = find_number_in_string(line.split(\": \")[1].split(' | ')[1])\n",
    "    return list(set(card_number) & set(my_number))"
   ]
  },
  {
   "cell_type": "code",
   "execution_count": 81,
   "metadata": {},
   "outputs": [],
   "source": [
    "def check_winning_condition (winning_number):\n",
    "    if len(winning_number) == 0:\n",
    "        result = 0\n",
    "    else:\n",
    "        result = 1\n",
    "        for i in range(0,len(winning_number)-1):\n",
    "            result = result * 2\n",
    "    return result \n",
    "        "
   ]
  },
  {
   "cell_type": "code",
   "execution_count": 82,
   "metadata": {},
   "outputs": [],
   "source": [
    "def get_each_game_result (line):    \n",
    "    return check_winning_condition(get_winning_number_list(line)) \n",
    "        "
   ]
  },
  {
   "cell_type": "code",
   "execution_count": 83,
   "metadata": {},
   "outputs": [],
   "source": [
    "# def get_each_game_result (line):\n",
    "#     card_number = find_number_in_string(line.split(\": \")[1].split(' | ')[0])\n",
    "#     my_number = find_number_in_string(line.split(\": \")[1].split(' | ')[1])\n",
    "#     winning_number = list(set(card_number) & set(my_number))\n",
    "#     if len(winning_number) == 0:\n",
    "#         result = 0\n",
    "#     else:\n",
    "#         result = 1\n",
    "#         for i in range(0,len(winning_number)-1):\n",
    "#             result = result * 2\n",
    "#     return result \n",
    "        "
   ]
  },
  {
   "cell_type": "code",
   "execution_count": 84,
   "metadata": {},
   "outputs": [],
   "source": [
    "def final_result (lines):\n",
    "    final = 0\n",
    "    for line in lines:\n",
    "        result = get_each_game_result (line)\n",
    "        final = final + result \n",
    "    return final"
   ]
  },
  {
   "cell_type": "code",
   "execution_count": 168,
   "metadata": {},
   "outputs": [
    {
     "data": {
      "text/plain": [
       "17782"
      ]
     },
     "execution_count": 168,
     "metadata": {},
     "output_type": "execute_result"
    }
   ],
   "source": [
    "lines = read_data ('day4_ex1.txt')\n",
    "# lines = read_data ('day4_test1.txt')\n",
    "\n",
    "final_result(lines)\n"
   ]
  },
  {
   "cell_type": "markdown",
   "metadata": {},
   "source": [
    "### ex 2"
   ]
  },
  {
   "cell_type": "code",
   "execution_count": 170,
   "metadata": {},
   "outputs": [
    {
     "name": "stdout",
     "output_type": "stream",
     "text": [
      "8477787\n"
     ]
    }
   ],
   "source": [
    "copy = [1]*len(lines)\n",
    "\n",
    "for ind, line in enumerate(lines):\n",
    "    winning_number = get_winning_number_list(line)\n",
    "    if len(winning_number)!= 0:\n",
    "        for i in range(ind+1, ind+1+len(winning_number)):\n",
    "            copy[i] += copy[ind]\n",
    "print(sum(copy))\n",
    "\n",
    "    "
   ]
  },
  {
   "cell_type": "code",
   "execution_count": null,
   "metadata": {},
   "outputs": [],
   "source": []
  }
 ],
 "metadata": {
  "kernelspec": {
   "display_name": "cow_3_8",
   "language": "python",
   "name": "cow_3_8"
  },
  "language_info": {
   "codemirror_mode": {
    "name": "ipython",
    "version": 3
   },
   "file_extension": ".py",
   "mimetype": "text/x-python",
   "name": "python",
   "nbconvert_exporter": "python",
   "pygments_lexer": "ipython3",
   "version": "3.8.12"
  }
 },
 "nbformat": 4,
 "nbformat_minor": 4
}
