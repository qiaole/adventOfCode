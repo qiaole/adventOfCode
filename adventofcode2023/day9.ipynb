{
 "cells": [
  {
   "cell_type": "code",
   "execution_count": 959,
   "metadata": {},
   "outputs": [],
   "source": [
    "def read_data (path):\n",
    "    with open(path, 'r', encoding=\"utf-8\") as f:\n",
    "\n",
    "        raw_lines = f.readlines()\n",
    "    return  [x[:-1] for x in raw_lines]"
   ]
  },
  {
   "cell_type": "markdown",
   "metadata": {},
   "source": [
    "# day 9"
   ]
  },
  {
   "cell_type": "markdown",
   "metadata": {},
   "source": [
    "### ex 1"
   ]
  },
  {
   "cell_type": "code",
   "execution_count": 960,
   "metadata": {},
   "outputs": [],
   "source": [
    "def get_difference(lista):\n",
    "    result = []\n",
    "    for i in range(0, len(lista)-1):\n",
    "        result = result + ([lista[i+1]-lista[i]])\n",
    "    return result[-1], result\n"
   ]
  },
  {
   "cell_type": "code",
   "execution_count": 961,
   "metadata": {},
   "outputs": [],
   "source": [
    "def get_result(test_line1):\n",
    "    result = test_line1[-1]\n",
    "#     while sum(test_line1) != 0:\n",
    "    while len(list(set(test_line1))) != 1 or list(set(test_line1))[0]!= 0:\n",
    "        last, test_line1 = get_difference(test_line1)\n",
    "        result = result + last\n",
    "    return result"
   ]
  },
  {
   "cell_type": "code",
   "execution_count": 966,
   "metadata": {},
   "outputs": [],
   "source": [
    "def get_sum(lines):\n",
    "    result = []\n",
    "    for line in lines:\n",
    "        line_treated = [int(x) for x in line.split(' ')]\n",
    "        result.extend([get_result(line_treated)])\n",
    "    return sum(result)\n"
   ]
  },
  {
   "cell_type": "code",
   "execution_count": 967,
   "metadata": {},
   "outputs": [
    {
     "data": {
      "text/plain": [
       "1955513104"
      ]
     },
     "execution_count": 967,
     "metadata": {},
     "output_type": "execute_result"
    }
   ],
   "source": [
    "lines = read_data ('inputs/day9_ex1.txt')\n",
    "get_sum(lines)"
   ]
  },
  {
   "cell_type": "markdown",
   "metadata": {},
   "source": [
    "# ex 2"
   ]
  },
  {
   "cell_type": "code",
   "execution_count": 968,
   "metadata": {},
   "outputs": [
    {
     "data": {
      "text/plain": [
       "1131"
      ]
     },
     "execution_count": 968,
     "metadata": {},
     "output_type": "execute_result"
    }
   ],
   "source": [
    "def get_sum(lines):\n",
    "    result = []\n",
    "    for line in lines:\n",
    "        line_treated = [int(x) for x in line.split(' ')]\n",
    "        line_treated.reverse()\n",
    "        result.extend([get_result(line_treated)])\n",
    "    return sum(result)\n",
    "\n",
    "lines = read_data ('inputs/day9_ex1.txt')\n",
    "get_sum(lines)"
   ]
  },
  {
   "cell_type": "code",
   "execution_count": null,
   "metadata": {},
   "outputs": [],
   "source": []
  }
 ],
 "metadata": {
  "kernelspec": {
   "display_name": "cow_3_8",
   "language": "python",
   "name": "cow_3_8"
  },
  "language_info": {
   "codemirror_mode": {
    "name": "ipython",
    "version": 3
   },
   "file_extension": ".py",
   "mimetype": "text/x-python",
   "name": "python",
   "nbconvert_exporter": "python",
   "pygments_lexer": "ipython3",
   "version": "3.8.12"
  }
 },
 "nbformat": 4,
 "nbformat_minor": 4
}
