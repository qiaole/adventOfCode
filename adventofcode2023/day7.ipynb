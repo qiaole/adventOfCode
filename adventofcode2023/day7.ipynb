{
 "cells": [
  {
   "cell_type": "code",
   "execution_count": 6,
   "metadata": {},
   "outputs": [],
   "source": [
    "from utils import *"
   ]
  },
  {
   "cell_type": "markdown",
   "metadata": {},
   "source": [
    "### ex 1"
   ]
  },
  {
   "cell_type": "code",
   "execution_count": 84,
   "metadata": {},
   "outputs": [],
   "source": [
    "cardsInRankOrder = ['A', 'K', 'Q', 'J', 'T', '9', '8', '7', '6', '5', '4', '3', '2']\n",
    "handsInRankOrder = ['FiveOfAKind', \n",
    "                    'FourOfAKind', \n",
    "                    'FullHouse', \n",
    "                    'ThreeOfAKind', \n",
    "                    'TwoPair', \n",
    "                    'OnePair', \n",
    "                    'HighCard']\n"
   ]
  },
  {
   "cell_type": "code",
   "execution_count": 85,
   "metadata": {},
   "outputs": [],
   "source": [
    "def get_hand_type (card):\n",
    "    length_of_set = len(set(card))\n",
    "    counter =  Counter([i for i in card])\n",
    "    counter_most = counter.most_common()[0][1]\n",
    "    if  length_of_set == 5:\n",
    "        return 'HighCard'\n",
    "    elif length_of_set == 4:\n",
    "        return 'OnePair'\n",
    "    elif length_of_set == 1:\n",
    "        return 'FiveOfAKind'\n",
    "    elif length_of_set == 2 and counter_most == 4:\n",
    "        return 'FourOfAKind'\n",
    "    elif length_of_set == 2 and counter_most != 4:\n",
    "        return 'FullHouse'\n",
    "    elif length_of_set == 3 and counter_most == 3:\n",
    "        return 'ThreeOfAKind'\n",
    "    else: return 'TwoPair'\n"
   ]
  },
  {
   "cell_type": "code",
   "execution_count": 86,
   "metadata": {},
   "outputs": [],
   "source": [
    "from functools import cmp_to_key\n",
    "\n",
    "def compare_same_hand(item1, item2):\n",
    "    for i in range(0, 5):\n",
    "        if item1[i] != item2[i]:\n",
    "            if cardsInRankOrder.index(item1[i]) < cardsInRankOrder.index(item2[i]):\n",
    "                return 1\n",
    "            else: return -1\n",
    "    return 0\n",
    "\n",
    "def custom_compare(input_item1, input_item2):\n",
    "    item1 = input_item1[0]\n",
    "    item2 = input_item2[0]\n",
    "    hand_type_1 = get_hand_type(item1)\n",
    "    hand_type_2 = get_hand_type(item2)\n",
    "    if handsInRankOrder.index(hand_type_1)  < handsInRankOrder.index(hand_type_2):\n",
    "        return 1\n",
    "    elif handsInRankOrder.index(hand_type_1) > handsInRankOrder.index(hand_type_2):\n",
    "        return -1\n",
    "    else:\n",
    "        return compare_same_hand(item1, item2)\n"
   ]
  },
  {
   "cell_type": "code",
   "execution_count": 91,
   "metadata": {},
   "outputs": [
    {
     "data": {
      "text/plain": [
       "248569531"
      ]
     },
     "execution_count": 91,
     "metadata": {},
     "output_type": "execute_result"
    }
   ],
   "source": [
    "lines = read_data ('day7_ex1.txt')\n",
    "lines = [tuple(l.split()) for l in lines]\n",
    "lines.sort(key=cmp_to_key(custom_compare))\n",
    "sum([(i[0]+1)*int(i[1][1]) for i in enumerate(lines)])"
   ]
  },
  {
   "cell_type": "markdown",
   "metadata": {},
   "source": [
    "# ex 2"
   ]
  },
  {
   "cell_type": "code",
   "execution_count": 100,
   "metadata": {},
   "outputs": [],
   "source": [
    "cardsInRankOrder = ['A', 'K', 'Q', 'T', '9', '8', '7', '6', '5', '4', '3', '2', 'J']\n",
    "\n",
    "def get_current_hand_type (card):\n",
    "    length_of_set = len(set(card))\n",
    "    counter =  Counter([i for i in card])\n",
    "    counter_most = counter.most_common()[0][1]\n",
    "    if  length_of_set == 5:\n",
    "        return 'HighCard'\n",
    "    elif length_of_set == 4:\n",
    "        return 'OnePair'\n",
    "    elif length_of_set == 1:\n",
    "        return 'FiveOfAKind'\n",
    "    elif length_of_set == 2 and counter_most == 4:\n",
    "        return 'FourOfAKind'\n",
    "    elif length_of_set == 2 and counter_most != 4:\n",
    "        return 'FullHouse'\n",
    "    elif length_of_set == 3 and counter_most == 3:\n",
    "        return 'ThreeOfAKind'\n",
    "    else: return 'TwoPair'\n",
    "    \n",
    "    \n",
    "def get_hand_type(card):\n",
    "    counter =  Counter([i for i in card])\n",
    "    jokerCount = counter['J']\n",
    "    curHandType = get_current_hand_type (card)\n",
    "    if curHandType == 'FourOfAKind' and jokerCount > 0:\n",
    "        return 'FiveOfAKind'\n",
    "    elif curHandType == 'FullHouse' and jokerCount > 0:\n",
    "        return 'FiveOfAKind\n",
    "    elif curHandType == 'ThreeOfAKind' and (jokerCount == 1 or jokerCount == 3):\n",
    "        return FourOfAKind\n",
    "    elif curHandType == 'TwoPair' and jokerCount == 2:\n",
    "        return FourOfAKind\n",
    "    elif curHandType == 'TwoPair' and jokerCount == 1:\n",
    "        return FullHouse\n",
    "    elif curHandType == 'OnePair' and (jokerCount == 2 or jokerCount == 1):\n",
    "        return ThreeOfAKind\n",
    "    elif curHandType == 'HighCard' and jokerCount == 1:\n",
    "        return OnePair\n",
    "    else: return curHandType\n"
   ]
  },
  {
   "cell_type": "code",
   "execution_count": 101,
   "metadata": {},
   "outputs": [
    {
     "ename": "NameError",
     "evalue": "name 'FourOfAKind' is not defined",
     "output_type": "error",
     "traceback": [
      "\u001b[0;31m---------------------------------------------------------------------------\u001b[0m",
      "\u001b[0;31mNameError\u001b[0m                                 Traceback (most recent call last)",
      "Cell \u001b[0;32mIn[101], line 3\u001b[0m\n\u001b[1;32m      1\u001b[0m lines \u001b[38;5;241m=\u001b[39m read_data (\u001b[38;5;124m'\u001b[39m\u001b[38;5;124mday7_test1.txt\u001b[39m\u001b[38;5;124m'\u001b[39m)\n\u001b[1;32m      2\u001b[0m lines \u001b[38;5;241m=\u001b[39m [\u001b[38;5;28mtuple\u001b[39m(l\u001b[38;5;241m.\u001b[39msplit()) \u001b[38;5;28;01mfor\u001b[39;00m l \u001b[38;5;129;01min\u001b[39;00m lines]\n\u001b[0;32m----> 3\u001b[0m \u001b[43mlines\u001b[49m\u001b[38;5;241;43m.\u001b[39;49m\u001b[43msort\u001b[49m\u001b[43m(\u001b[49m\u001b[43mkey\u001b[49m\u001b[38;5;241;43m=\u001b[39;49m\u001b[43mcmp_to_key\u001b[49m\u001b[43m(\u001b[49m\u001b[43mcustom_compare\u001b[49m\u001b[43m)\u001b[49m\u001b[43m)\u001b[49m\n\u001b[1;32m      4\u001b[0m \u001b[38;5;28msum\u001b[39m([(i[\u001b[38;5;241m0\u001b[39m]\u001b[38;5;241m+\u001b[39m\u001b[38;5;241m1\u001b[39m)\u001b[38;5;241m*\u001b[39m\u001b[38;5;28mint\u001b[39m(i[\u001b[38;5;241m1\u001b[39m][\u001b[38;5;241m1\u001b[39m]) \u001b[38;5;28;01mfor\u001b[39;00m i \u001b[38;5;129;01min\u001b[39;00m \u001b[38;5;28menumerate\u001b[39m(lines)])\n",
      "Cell \u001b[0;32mIn[86], line 14\u001b[0m, in \u001b[0;36mcustom_compare\u001b[0;34m(input_item1, input_item2)\u001b[0m\n\u001b[1;32m     12\u001b[0m item1 \u001b[38;5;241m=\u001b[39m input_item1[\u001b[38;5;241m0\u001b[39m]\n\u001b[1;32m     13\u001b[0m item2 \u001b[38;5;241m=\u001b[39m input_item2[\u001b[38;5;241m0\u001b[39m]\n\u001b[0;32m---> 14\u001b[0m hand_type_1 \u001b[38;5;241m=\u001b[39m \u001b[43mget_hand_type\u001b[49m\u001b[43m(\u001b[49m\u001b[43mitem1\u001b[49m\u001b[43m)\u001b[49m\n\u001b[1;32m     15\u001b[0m hand_type_2 \u001b[38;5;241m=\u001b[39m get_hand_type(item2)\n\u001b[1;32m     16\u001b[0m \u001b[38;5;28;01mif\u001b[39;00m handsInRankOrder\u001b[38;5;241m.\u001b[39mindex(hand_type_1)  \u001b[38;5;241m<\u001b[39m handsInRankOrder\u001b[38;5;241m.\u001b[39mindex(hand_type_2):\n",
      "Cell \u001b[0;32mIn[100], line 31\u001b[0m, in \u001b[0;36mget_hand_type\u001b[0;34m(card)\u001b[0m\n\u001b[1;32m     29\u001b[0m     \u001b[38;5;28;01mreturn\u001b[39;00m FiveOfAKind\n\u001b[1;32m     30\u001b[0m \u001b[38;5;28;01melif\u001b[39;00m curHandType \u001b[38;5;241m==\u001b[39m \u001b[38;5;124m'\u001b[39m\u001b[38;5;124mThreeOfAKind\u001b[39m\u001b[38;5;124m'\u001b[39m \u001b[38;5;129;01mand\u001b[39;00m (jokerCount \u001b[38;5;241m==\u001b[39m \u001b[38;5;241m1\u001b[39m \u001b[38;5;129;01mor\u001b[39;00m jokerCount \u001b[38;5;241m==\u001b[39m \u001b[38;5;241m3\u001b[39m):\n\u001b[0;32m---> 31\u001b[0m     \u001b[38;5;28;01mreturn\u001b[39;00m \u001b[43mFourOfAKind\u001b[49m\n\u001b[1;32m     32\u001b[0m \u001b[38;5;28;01melif\u001b[39;00m curHandType \u001b[38;5;241m==\u001b[39m \u001b[38;5;124m'\u001b[39m\u001b[38;5;124mTwoPair\u001b[39m\u001b[38;5;124m'\u001b[39m \u001b[38;5;129;01mand\u001b[39;00m jokerCount \u001b[38;5;241m==\u001b[39m \u001b[38;5;241m2\u001b[39m:\n\u001b[1;32m     33\u001b[0m     \u001b[38;5;28;01mreturn\u001b[39;00m FourOfAKind\n",
      "\u001b[0;31mNameError\u001b[0m: name 'FourOfAKind' is not defined"
     ]
    }
   ],
   "source": [
    "lines = read_data ('day7_test1.txt')\n",
    "lines = [tuple(l.split()) for l in lines]\n",
    "lines.sort(key=cmp_to_key(custom_compare))\n",
    "sum([(i[0]+1)*int(i[1][1]) for i in enumerate(lines)])"
   ]
  },
  {
   "cell_type": "code",
   "execution_count": null,
   "metadata": {},
   "outputs": [],
   "source": []
  }
 ],
 "metadata": {
  "kernelspec": {
   "display_name": "cow_3_8",
   "language": "python",
   "name": "cow_3_8"
  },
  "language_info": {
   "codemirror_mode": {
    "name": "ipython",
    "version": 3
   },
   "file_extension": ".py",
   "mimetype": "text/x-python",
   "name": "python",
   "nbconvert_exporter": "python",
   "pygments_lexer": "ipython3",
   "version": "3.8.12"
  }
 },
 "nbformat": 4,
 "nbformat_minor": 4
}
