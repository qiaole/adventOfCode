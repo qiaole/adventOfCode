{
 "cells": [
  {
   "cell_type": "markdown",
   "metadata": {},
   "source": [
    "# day 1"
   ]
  },
  {
   "cell_type": "code",
   "execution_count": 11,
   "metadata": {},
   "outputs": [],
   "source": [
    "import re"
   ]
  },
  {
   "cell_type": "markdown",
   "metadata": {},
   "source": [
    "### ex 1"
   ]
  },
  {
   "cell_type": "code",
   "execution_count": 47,
   "metadata": {},
   "outputs": [],
   "source": [
    "with open('day1_ex1.txt', 'r', encoding=\"utf-8\") as f:\n",
    "    lines = f.readlines()"
   ]
  },
  {
   "cell_type": "code",
   "execution_count": 48,
   "metadata": {},
   "outputs": [
    {
     "name": "stdout",
     "output_type": "stream",
     "text": [
      "54573\n"
     ]
    }
   ],
   "source": [
    "def get_number (lines):\n",
    "    sum_number = 0\n",
    "    for line in lines:\n",
    "        number = re.sub(\"[^0-9]\", \"\", line)\n",
    "        sum_number = sum_number + (int(number[0]+number[-1]))\n",
    "    print(sum_number)\n",
    "get_number(lines)"
   ]
  },
  {
   "cell_type": "markdown",
   "metadata": {},
   "source": [
    "### ex2"
   ]
  },
  {
   "cell_type": "code",
   "execution_count": 85,
   "metadata": {},
   "outputs": [],
   "source": [
    "with open('day1_ex1.txt', 'r', encoding=\"utf-8\") as f:\n",
    "    lines = f.readlines()"
   ]
  },
  {
   "cell_type": "code",
   "execution_count": 86,
   "metadata": {},
   "outputs": [],
   "source": [
    "replace_from_2 = ['one', 'two', 'three', 'four', 'five', 'six', 'seven', 'eight', 'nine']\n",
    "replace_to = ['one1one','two2two','three3three','four4four','five5five','six6six','seven7seven','eight8eight','nine9nine']"
   ]
  },
  {
   "cell_type": "code",
   "execution_count": 87,
   "metadata": {},
   "outputs": [],
   "source": [
    "new_list = []\n",
    "for line in lines:\n",
    "    for i in range(0,9):\n",
    "        line = line.replace(replace_from[i], replace_to[i])\n",
    "    new_list.append(line)"
   ]
  },
  {
   "cell_type": "code",
   "execution_count": 88,
   "metadata": {},
   "outputs": [
    {
     "name": "stdout",
     "output_type": "stream",
     "text": [
      "54591\n"
     ]
    }
   ],
   "source": [
    "get_number(new_list)"
   ]
  },
  {
   "cell_type": "markdown",
   "metadata": {},
   "source": [
    "# day 2"
   ]
  },
  {
   "cell_type": "markdown",
   "metadata": {},
   "source": [
    "### ex 1"
   ]
  },
  {
   "cell_type": "code",
   "execution_count": 377,
   "metadata": {},
   "outputs": [],
   "source": [
    "with open('day2_ex1.txt', 'r', encoding=\"utf-8\") as f:\n",
    "# with open('day2_test1.txt', 'r', encoding=\"utf-8\") as f:\n",
    "    lines = f.readlines()"
   ]
  },
  {
   "cell_type": "code",
   "execution_count": 155,
   "metadata": {},
   "outputs": [],
   "source": [
    "class DiceClass:\n",
    "    def __init__(self, red=0, green=0, blue=0):\n",
    "        self.red = red\n",
    "        self.green = green\n",
    "        self.blue = blue\n",
    "    def __str__(self):\n",
    "        return 'red:' + str(self.red) + ';green:' + str(self.green) + ';blue:' + str(self.blue)\n"
   ]
  },
  {
   "cell_type": "code",
   "execution_count": 163,
   "metadata": {},
   "outputs": [],
   "source": [
    "def check_condition (dice):\n",
    "    if int(dice.red) <=12 and int(dice.green) <= 13 and int(dice.blue) <= 14:\n",
    "        return True\n",
    "    "
   ]
  },
  {
   "cell_type": "code",
   "execution_count": 180,
   "metadata": {},
   "outputs": [],
   "source": [
    "def check_each_game (line):\n",
    "    gameNumber = int(line.split(\": \")[0][5:])\n",
    "    eachGame = line.replace('\\n','').split(\": \")[1].split(\"; \")\n",
    "    check = 0\n",
    "    for eachSetIndex in range(0, len(eachGame)):\n",
    "        g = 0\n",
    "        b = 0\n",
    "        r = 0\n",
    "        eachSet = eachGame[eachSetIndex].split(\", \")\n",
    "        setList = []\n",
    "        for eachDiceIndex in range(0, len(eachSet)):\n",
    "            eachDice = eachSet[eachDiceIndex].split(\" \")\n",
    "            color = eachDice[1]\n",
    "            diceValue = int(eachDice[0])\n",
    "            if color == 'green':\n",
    "                g = diceValue\n",
    "            elif color == 'red':\n",
    "                r = diceValue\n",
    "            elif color == 'blue':\n",
    "                b = diceValue\n",
    "        eachDice = DiceClass(r,g,b)\n",
    "        if not check_condition(eachDice):\n",
    "            check = check + 1\n",
    "    if check == 0:\n",
    "        return gameNumber\n",
    "    else: return 0"
   ]
  },
  {
   "cell_type": "code",
   "execution_count": 181,
   "metadata": {},
   "outputs": [
    {
     "name": "stdout",
     "output_type": "stream",
     "text": [
      "1867\n"
     ]
    }
   ],
   "source": [
    "gameSum = 0\n",
    "for line in lines:\n",
    "    gameSum = gameSum + check_each_game(line)\n",
    "print(gameSum)"
   ]
  },
  {
   "cell_type": "markdown",
   "metadata": {},
   "source": [
    "### ex2"
   ]
  },
  {
   "cell_type": "code",
   "execution_count": 182,
   "metadata": {},
   "outputs": [],
   "source": [
    "\n",
    "def check_each_game_2 (line):\n",
    "    gameNumber = int(line.split(\": \")[0][5:])\n",
    "    eachGame = line.replace('\\n','').split(\": \")[1].split(\"; \")\n",
    "    check = 0\n",
    "    g = 0\n",
    "    b = 0\n",
    "    r = 0\n",
    "    for eachSetIndex in range(0, len(eachGame)):\n",
    "        eachSet = eachGame[eachSetIndex].split(\", \")\n",
    "        setList = []\n",
    "        for eachDiceIndex in range(0, len(eachSet)):\n",
    "            eachDice = eachSet[eachDiceIndex].split(\" \")\n",
    "            diceValue = int(eachDice[0])\n",
    "            color = eachDice[1]\n",
    "            if color == 'green' and diceValue > g:\n",
    "                g = diceValue\n",
    "            elif color == 'red' and diceValue > r:\n",
    "                r = diceValue\n",
    "            elif color == 'blue' and diceValue > b:\n",
    "                b = diceValue\n",
    "    return r*b*g\n",
    "\n"
   ]
  },
  {
   "cell_type": "code",
   "execution_count": 183,
   "metadata": {},
   "outputs": [
    {
     "name": "stdout",
     "output_type": "stream",
     "text": [
      "84538\n"
     ]
    }
   ],
   "source": [
    "gameSum = 0\n",
    "for line in lines:\n",
    "    gameSum = gameSum + check_each_game_2(line)\n",
    "print(gameSum)"
   ]
  },
  {
   "cell_type": "markdown",
   "metadata": {},
   "source": [
    "# day 3"
   ]
  },
  {
   "cell_type": "markdown",
   "metadata": {},
   "source": [
    "### ex 1"
   ]
  },
  {
   "cell_type": "code",
   "execution_count": 516,
   "metadata": {},
   "outputs": [],
   "source": [
    "from collections import Counter\n",
    "import re"
   ]
  },
  {
   "cell_type": "code",
   "execution_count": 632,
   "metadata": {},
   "outputs": [],
   "source": [
    "def get_adjacent_char (numList, positionList, lines):\n",
    "    totalChar = []\n",
    "    fileredChar = []\n",
    "    lastCol =  len(lines[0])-1\n",
    "    lastRow = len(lines)-1\n",
    "    for i in range(0, len(positionList)):\n",
    "        adjChar = []\n",
    "        lineNum =  int(positionList[i][0])\n",
    "        startCol = int(positionList[i][1])\n",
    "        endCol = int(positionList[i][2])\n",
    "        if lineNum == 0:\n",
    "            if startCol >0 and endCol < lastCol:\n",
    "                adjChar = lines[lineNum][startCol-1]+lines[lineNum][endCol+1]+ lines[lineNum+1][startCol-1:endCol+2]\n",
    "            elif startCol == 0 and endCol < lastCol:\n",
    "                adjChar = lines[lineNum][endCol+1]+ lines[lineNum+1][:endCol+2]\n",
    "            elif startCol == 0 and endCol == lastCol:\n",
    "                adjChar = lines[lineNum+1][:]\n",
    "            elif startCol > 0 and endCol == lastCol:\n",
    "                adjChar = lines[lineNum][startCol-1] + lines[lineNum+1][startCol-1:]\n",
    "        elif lineNum > 0 and lineNum  < lastRow:\n",
    "            if startCol >0 and endCol < lastCol:\n",
    "                adjChar = lines[lineNum][startCol-1]+lines[lineNum][endCol+1]+ lines[lineNum+1][startCol-1:endCol+2] + lines[lineNum-1][startCol-1:endCol+2]\n",
    "            elif startCol == 0 and endCol < lastCol:\n",
    "                adjChar = lines[lineNum][endCol+1]+ lines[lineNum+1][:endCol+2] + lines[lineNum-1][:endCol+2]\n",
    "            elif startCol == 0 and endCol == lastCol:\n",
    "                adjChar = lines[lineNum+1][:]+lines[lineNum-1][:]\n",
    "            elif startCol > 0 and endCol == lastCol:\n",
    "                adjChar = lines[lineNum][startCol-1] + lines[lineNum+1][startCol-1:]+lines[lineNum-1][startCol-1:]\n",
    "        elif lineNum == lastRow:\n",
    "            if startCol >0 and endCol < lastCol:\n",
    "                adjChar = lines[lineNum][startCol-1]+lines[lineNum][endCol+1] + lines[lineNum-1][startCol-1:endCol+2]\n",
    "            elif startCol == 0 and endCol < lastCol:\n",
    "                adjChar = lines[lineNum][endCol+1] + lines[lineNum-1][:endCol+2]\n",
    "            elif startCol == 0 and endCol == lastCol:\n",
    "                adjChar = lines[lineNum-1][:]\n",
    "            elif startCol > 0 and endCol == lastCol:\n",
    "                adjChar = lines[lineNum][startCol-1] + lines[lineNum-1][startCol-1:] \n",
    "        \n",
    "        totalChar = totalChar + [[numList[i], adjChar, ''.join([i for i in adjChar.replace('.','') if not i.isdigit()])]]\n",
    "    return totalChar"
   ]
  },
  {
   "cell_type": "code",
   "execution_count": 637,
   "metadata": {},
   "outputs": [],
   "source": [
    "def filter_number (adjChar):\n",
    "    filtered_number = []\n",
    "    for pair in adjChar:\n",
    "        if  len(pair[2])!= 0:\n",
    "             filtered_number.append(int(pair[0]))\n",
    "    return filtered_number"
   ]
  },
  {
   "cell_type": "code",
   "execution_count": 638,
   "metadata": {},
   "outputs": [],
   "source": [
    "def find_num_position(lines):\n",
    "    numPosition = []\n",
    "    numbers = []\n",
    "    lineNumber = 0\n",
    "    for line in lines:\n",
    "        numberInLine = re.findall(r'\\d+', line)\n",
    "        numbers = numbers + numberInLine\n",
    "        for num in numberInLine:\n",
    "            index_start = line.index(num)\n",
    "            numPosition.extend([[lineNumber, index_start, index_start+len(num)-1]])\n",
    "            line = line[:index_start]+\".\"*len(num)+line[index_start+len(num):]     \n",
    "        lineNumber += 1\n",
    "    return numbers, numPosition"
   ]
  },
  {
   "cell_type": "code",
   "execution_count": 639,
   "metadata": {},
   "outputs": [
    {
     "name": "stdout",
     "output_type": "stream",
     "text": [
      "sum:  521515\n"
     ]
    }
   ],
   "source": [
    "with open('day3_ex1.txt', 'r', encoding=\"utf-8\") as f:\n",
    "# with open('day3_test2.txt', 'r', encoding=\"utf-8\") as f:\n",
    "# with open('day3_ex1.txt', 'r', encoding=\"utf-8\") as f:\n",
    "\n",
    "    raw_lines = f.readlines()\n",
    "lines = [x[:-1] for x in raw_lines]\n",
    "    \n",
    "n, p = find_num_position(lines)\n",
    "# print(n)\n",
    "# print(p)\n",
    "adjacentCharaters = get_adjacent_char (n, p, lines)\n",
    "rest_of_numbers = filter_number(adjacentCharaters)\n",
    "print('sum: ', sum(rest_of_numbers))\n",
    "\n",
    "# print('all_numbers:')\n",
    "# print([x[0] for x in adjacentCharaters])\n",
    "# print('adjacentCharaters_filtered:')\n",
    "# print([x[2] for x in adjacentCharaters])\n",
    "# print('adjacentCharaters:')\n",
    "# print(adjacentCharaters)\n",
    "# print('rest_of_numbers:')\n",
    "# print(rest_of_numbers)"
   ]
  },
  {
   "cell_type": "code",
   "execution_count": 480,
   "metadata": {},
   "outputs": [
    {
     "name": "stdout",
     "output_type": "stream",
     "text": [
      "521515 69527306\n"
     ]
    }
   ],
   "source": [
    "import math as m, re\n",
    "\n",
    "board = list(open('day3_ex1.txt'))\n",
    "chars = {(r, c): [] for r in range(140) for c in range(140)\n",
    "                    if board[r][c] not in '01234566789.'}\n",
    "\n",
    "for r, row in enumerate(board):\n",
    "    for n in re.finditer(r'\\d+', row):\n",
    "        edge = {(r, c) for r in (r-1, r, r+1)\n",
    "                       for c in range(n.start()-1, n.end()+1)}\n",
    "\n",
    "        for o in edge & chars.keys():\n",
    "            chars[o].append(int(n.group()))\n",
    "\n",
    "print(sum(sum(p)    for p in chars.values()),\n",
    "      sum(m.prod(p) for p in chars.values() if len(p)==2))"
   ]
  },
  {
   "cell_type": "markdown",
   "metadata": {},
   "source": [
    "### ex2"
   ]
  },
  {
   "cell_type": "code",
   "execution_count": 811,
   "metadata": {},
   "outputs": [],
   "source": [
    "def find_star_position(lines):\n",
    "    numPosition = []\n",
    "    stars = []\n",
    "    lineNumber = 0\n",
    "    for line in lines:\n",
    "        ct = Counter(line)['*']\n",
    "        while ct > 0:\n",
    "            index_start = line.index('*')\n",
    "            numPosition.extend([[lineNumber, index_start]])\n",
    "            line = line[:index_start]+\".\"+line[index_start+1:]   \n",
    "            ct -= 1\n",
    "        lineNumber += 1\n",
    "    return numPosition\n",
    "\n",
    "def find_each_star_coverage (p, lines):\n",
    "    pList = []\n",
    "    lastCol = len(lines[0]) -1\n",
    "    lastRow = len(lines) -1\n",
    "#     print(lastRow)\n",
    "    if p[0] == 0:\n",
    "        if p[1] > 0 and p[1] < lastCol:\n",
    "            pList.extend([p[0], p[0]+1, p[1]-1, p[1]+1]) \n",
    "        elif p[1] == 0:\n",
    "            pList.extend([p[0], p[0]+1, p[1], p[1]+1]) \n",
    "        elif p[1] == lastCol:\n",
    "            pList.extend([p[0], p[0]+1, p[1]-1, p[1]]) \n",
    "\n",
    "    elif p[0] > 0 and p[0] < lastRow:\n",
    "        if p[1] > 0 and p[1] < lastCol:\n",
    "            pList.extend([p[0]-1, p[0]+1, p[1]-1, p[1]+1]) \n",
    "        elif p[1] == 0:\n",
    "            pList.extend([p[0]-1, p[0]+1, p[1], p[1]+1]) \n",
    "        elif p[1] == lastCol:\n",
    "            pList.extend([p[0]-1, p[0]+1, p[1]-1, p[1]]) \n",
    "            \n",
    "    elif p[0] == lastRow:\n",
    "        if p[1] > 0 and p[1] < lastCol:\n",
    "            pList.extend([p[0]-1, p[0], p[1]-1, p[1]+1]) \n",
    "        elif p[1] == 0:\n",
    "            pList.extend([p[0]-1, p[0], p[1], p[1]+1]) \n",
    "        elif p[1] == lastCol:\n",
    "            pList.extend([p[0]-1, p[0], p[1]-1, p[1]])    \n",
    "        \n",
    "    return pList\n",
    "\n",
    "def find_total_star_coverage (starP, lines):\n",
    "    totalList = []\n",
    "    for p in starP:\n",
    "        pList = [find_each_star_coverage(p, lines)]\n",
    "        totalList.extend(pList)\n",
    "    return totalList\n",
    "\n",
    "\n",
    "def how_many_num_fall_into_one_star(num, numPos, starPos):\n",
    "    result = []\n",
    "    for i in range (0, len(num)):\n",
    "        starFall = whether_a_num_fall_into_one_star(num[i], numPos[i], starPos)\n",
    "        if starFall is not None:\n",
    "            result.extend([starFall])\n",
    "    return result\n",
    "\n",
    "def loop_through_all_stars (num, numPos, stars):\n",
    "    result = []\n",
    "    for star in stars:\n",
    "        result.extend ([how_many_num_fall_into_one_star(n, p, star)])\n",
    "    return result \n",
    "\n",
    "def check_conditions (nums):\n",
    "    result = 0\n",
    "    for num in nums:\n",
    "        if len(num) == 2:\n",
    "            result += int(num[0])*int(num[1])\n",
    "    return result\n",
    "\n",
    "def whether_a_num_fall_into_one_star (num, numPos, starPos):\n",
    "    if numPos[0]>=starPos[0] and numPos[0]<=starPos[1]:\n",
    "        starRowCover = [*range(starPos[2], starPos[3]+1, 1)]\n",
    "        numRowCover = [*range(numPos[1], numPos[2]+1, 1)]\n",
    "        if len(list(set(starRowCover) & set(numRowCover)))>0:\n",
    "            return num\n",
    "        else: return None\n",
    "      "
   ]
  },
  {
   "cell_type": "code",
   "execution_count": 812,
   "metadata": {},
   "outputs": [
    {
     "data": {
      "text/plain": [
       "69527306"
      ]
     },
     "execution_count": 812,
     "metadata": {},
     "output_type": "execute_result"
    }
   ],
   "source": [
    "\n",
    "with open('day3_ex1.txt', 'r', encoding=\"utf-8\") as f:\n",
    "\n",
    "    raw_lines = f.readlines()\n",
    "lines = [x[:-1] for x in raw_lines]\n",
    "\n",
    "starPositions = find_star_position(lines)\n",
    "n, p = find_num_position(lines)\n",
    "allStars = find_total_star_coverage(starPositions, lines)\n",
    "result = loop_through_all_stars (n, p, allStars)\n",
    "check_conditions(result)"
   ]
  }
 ],
 "metadata": {
  "kernelspec": {
   "display_name": "cow_3_8",
   "language": "python",
   "name": "cow_3_8"
  },
  "language_info": {
   "codemirror_mode": {
    "name": "ipython",
    "version": 3
   },
   "file_extension": ".py",
   "mimetype": "text/x-python",
   "name": "python",
   "nbconvert_exporter": "python",
   "pygments_lexer": "ipython3",
   "version": "3.8.12"
  }
 },
 "nbformat": 4,
 "nbformat_minor": 4
}
