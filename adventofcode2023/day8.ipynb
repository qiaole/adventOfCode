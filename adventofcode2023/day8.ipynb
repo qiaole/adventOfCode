{
 "cells": [
  {
   "cell_type": "code",
   "execution_count": 13,
   "metadata": {},
   "outputs": [],
   "source": [
    "from utils import *\n",
    "from math import lcm\n"
   ]
  },
  {
   "cell_type": "markdown",
   "metadata": {},
   "source": [
    "### ex 1"
   ]
  },
  {
   "cell_type": "code",
   "execution_count": 5,
   "metadata": {},
   "outputs": [],
   "source": [
    "def looking_up (instruction, lookup_table):\n",
    "    steps = 0\n",
    "    start = 'AAA'\n",
    "    for i in instruction:\n",
    "        start = lookup_table[start][i]\n",
    "        steps += 1\n",
    "        if start == 'ZZZ':\n",
    "            return steps\n",
    "        \n",
    "def get_instruction_and_lookup_table (lines):\n",
    "    instruction = lines[0]\n",
    "    instruction = [1 if x=='R' else 0 for x in instruction]*100\n",
    "\n",
    "    lookup_table = dict()\n",
    "    for line in lines[2:]:\n",
    "        lookup_table[line[0:3]] = (line[7:10], line[12:15])\n",
    "    return instruction, lookup_table"
   ]
  },
  {
   "cell_type": "code",
   "execution_count": 6,
   "metadata": {},
   "outputs": [
    {
     "data": {
      "text/plain": [
       "17141"
      ]
     },
     "execution_count": 6,
     "metadata": {},
     "output_type": "execute_result"
    }
   ],
   "source": [
    "lines = read_data ('day8_ex1.txt')\n",
    "instruction, lookup_table = get_instruction_and_lookup_table (lines)\n",
    "\n",
    "looking_up (instruction, lookup_table)"
   ]
  },
  {
   "cell_type": "markdown",
   "metadata": {},
   "source": [
    "### ex2"
   ]
  },
  {
   "cell_type": "code",
   "execution_count": 14,
   "metadata": {},
   "outputs": [],
   "source": [
    "def new_looking_up (start, instruction, lookup_table):\n",
    "    steps = 0\n",
    "    for i in instruction:\n",
    "        start = lookup_table[start][i]\n",
    "        steps += 1\n",
    "        if start[2] == 'Z':\n",
    "            return steps\n"
   ]
  },
  {
   "cell_type": "code",
   "execution_count": 15,
   "metadata": {},
   "outputs": [
    {
     "data": {
      "text/plain": [
       "10818234074807"
      ]
     },
     "execution_count": 15,
     "metadata": {},
     "output_type": "execute_result"
    }
   ],
   "source": [
    "lines = read_data ('day8_ex1.txt')\n",
    "instruction, lookup_table = get_instruction_and_lookup_table (lines)\n",
    "starting_points = list(filter(lambda x: x[2] == 'A', lookup_table.keys()))\n",
    "\n",
    "result = []\n",
    "for i in starting_points:\n",
    "    result.append(new_looking_up (i, instruction, lookup_table))\n",
    "\n",
    "lcm(*result)"
   ]
  }
 ],
 "metadata": {
  "kernelspec": {
   "display_name": "Python 3",
   "language": "python",
   "name": "python3"
  },
  "language_info": {
   "codemirror_mode": {
    "name": "ipython",
    "version": 3
   },
   "file_extension": ".py",
   "mimetype": "text/x-python",
   "name": "python",
   "nbconvert_exporter": "python",
   "pygments_lexer": "ipython3",
   "version": "3.9.18"
  }
 },
 "nbformat": 4,
 "nbformat_minor": 4
}
