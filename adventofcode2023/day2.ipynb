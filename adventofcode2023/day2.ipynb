{
 "cells": [
  {
   "cell_type": "markdown",
   "metadata": {},
   "source": [
    "# day 2"
   ]
  },
  {
   "cell_type": "markdown",
   "metadata": {},
   "source": [
    "### ex 1"
   ]
  },
  {
   "cell_type": "code",
   "execution_count": 1,
   "metadata": {},
   "outputs": [],
   "source": [
    "with open('inputs/day2_ex1.txt', 'r', encoding=\"utf-8\") as f:\n",
    "# with open('day2_test1.txt', 'r', encoding=\"utf-8\") as f:\n",
    "    lines = f.readlines()"
   ]
  },
  {
   "cell_type": "code",
   "execution_count": 2,
   "metadata": {},
   "outputs": [],
   "source": [
    "class DiceClass:\n",
    "    def __init__(self, red=0, green=0, blue=0):\n",
    "        self.red = red\n",
    "        self.green = green\n",
    "        self.blue = blue\n",
    "    def __str__(self):\n",
    "        return 'red:' + str(self.red) + ';green:' + str(self.green) + ';blue:' + str(self.blue)\n"
   ]
  },
  {
   "cell_type": "code",
   "execution_count": 3,
   "metadata": {},
   "outputs": [],
   "source": [
    "def check_condition (dice):\n",
    "    if int(dice.red) <=12 and int(dice.green) <= 13 and int(dice.blue) <= 14:\n",
    "        return True\n",
    "    "
   ]
  },
  {
   "cell_type": "code",
   "execution_count": 4,
   "metadata": {},
   "outputs": [],
   "source": [
    "def check_each_game (line):\n",
    "    gameNumber = int(line.split(\": \")[0][5:])\n",
    "    eachGame = line.replace('\\n','').split(\": \")[1].split(\"; \")\n",
    "    check = 0\n",
    "    for eachSetIndex in range(0, len(eachGame)):\n",
    "        g = 0\n",
    "        b = 0\n",
    "        r = 0\n",
    "        eachSet = eachGame[eachSetIndex].split(\", \")\n",
    "        setList = []\n",
    "        for eachDiceIndex in range(0, len(eachSet)):\n",
    "            eachDice = eachSet[eachDiceIndex].split(\" \")\n",
    "            color = eachDice[1]\n",
    "            diceValue = int(eachDice[0])\n",
    "            if color == 'green':\n",
    "                g = diceValue\n",
    "            elif color == 'red':\n",
    "                r = diceValue\n",
    "            elif color == 'blue':\n",
    "                b = diceValue\n",
    "        eachDice = DiceClass(r,g,b)\n",
    "        if not check_condition(eachDice):\n",
    "            check = check + 1\n",
    "    if check == 0:\n",
    "        return gameNumber\n",
    "    else: return 0"
   ]
  },
  {
   "cell_type": "code",
   "execution_count": 5,
   "metadata": {},
   "outputs": [
    {
     "name": "stdout",
     "output_type": "stream",
     "text": [
      "1867\n"
     ]
    }
   ],
   "source": [
    "gameSum = 0\n",
    "for line in lines:\n",
    "    gameSum = gameSum + check_each_game(line)\n",
    "print(gameSum)"
   ]
  },
  {
   "cell_type": "markdown",
   "metadata": {},
   "source": [
    "### ex2"
   ]
  },
  {
   "cell_type": "code",
   "execution_count": 6,
   "metadata": {},
   "outputs": [],
   "source": [
    "\n",
    "def check_each_game_2 (line):\n",
    "    gameNumber = int(line.split(\": \")[0][5:])\n",
    "    eachGame = line.replace('\\n','').split(\": \")[1].split(\"; \")\n",
    "    check = 0\n",
    "    g = 0\n",
    "    b = 0\n",
    "    r = 0\n",
    "    for eachSetIndex in range(0, len(eachGame)):\n",
    "        eachSet = eachGame[eachSetIndex].split(\", \")\n",
    "        setList = []\n",
    "        for eachDiceIndex in range(0, len(eachSet)):\n",
    "            eachDice = eachSet[eachDiceIndex].split(\" \")\n",
    "            diceValue = int(eachDice[0])\n",
    "            color = eachDice[1]\n",
    "            if color == 'green' and diceValue > g:\n",
    "                g = diceValue\n",
    "            elif color == 'red' and diceValue > r:\n",
    "                r = diceValue\n",
    "            elif color == 'blue' and diceValue > b:\n",
    "                b = diceValue\n",
    "    return r*b*g\n",
    "\n"
   ]
  },
  {
   "cell_type": "code",
   "execution_count": 7,
   "metadata": {},
   "outputs": [
    {
     "name": "stdout",
     "output_type": "stream",
     "text": [
      "84538\n"
     ]
    }
   ],
   "source": [
    "gameSum = 0\n",
    "for line in lines:\n",
    "    gameSum = gameSum + check_each_game_2(line)\n",
    "print(gameSum)"
   ]
  }
 ],
 "metadata": {
  "kernelspec": {
   "display_name": "cow_3_8",
   "language": "python",
   "name": "cow_3_8"
  },
  "language_info": {
   "codemirror_mode": {
    "name": "ipython",
    "version": 3
   },
   "file_extension": ".py",
   "mimetype": "text/x-python",
   "name": "python",
   "nbconvert_exporter": "python",
   "pygments_lexer": "ipython3",
   "version": "3.8.12"
  }
 },
 "nbformat": 4,
 "nbformat_minor": 4
}
