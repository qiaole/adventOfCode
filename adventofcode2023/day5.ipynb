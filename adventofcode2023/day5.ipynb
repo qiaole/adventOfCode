{
 "cells": [
  {
   "cell_type": "code",
   "execution_count": 46,
   "metadata": {},
   "outputs": [],
   "source": [
    "from utils import *"
   ]
  },
  {
   "cell_type": "code",
   "execution_count": 47,
   "metadata": {},
   "outputs": [],
   "source": [
    "def find_number_in_string (stringa):\n",
    "    return [int(x) for x in re.findall(r'\\d+', stringa)]"
   ]
  },
  {
   "cell_type": "markdown",
   "metadata": {},
   "source": [
    "### ex 1"
   ]
  },
  {
   "cell_type": "code",
   "execution_count": 48,
   "metadata": {},
   "outputs": [],
   "source": [
    "def check_conditions (seed, map_entry):\n",
    "    if seed >= map_entry[1] and seed <= map_entry[1]+map_entry[2]-1:\n",
    "        return map_entry[0]-map_entry[1]+seed\n",
    "    else: return None"
   ]
  },
  {
   "cell_type": "code",
   "execution_count": 49,
   "metadata": {},
   "outputs": [],
   "source": [
    "def for_each_part (seed, part):\n",
    "    for line in part:\n",
    "        condition_result = check_conditions(seed, line)\n",
    "        if condition_result is not None:\n",
    "            return condition_result\n",
    "    return seed\n"
   ]
  },
  {
   "cell_type": "code",
   "execution_count": 50,
   "metadata": {},
   "outputs": [],
   "source": [
    "def for_each_seed (seed, parts):\n",
    "    for part in parts:\n",
    "        seed = for_each_part(seed, part)\n",
    "    return seed"
   ]
  },
  {
   "cell_type": "code",
   "execution_count": 51,
   "metadata": {},
   "outputs": [],
   "source": [
    "def get_seeds(lines):\n",
    "    return find_number_in_string(lines[0])\n",
    "    "
   ]
  },
  {
   "cell_type": "code",
   "execution_count": 52,
   "metadata": {},
   "outputs": [],
   "source": [
    "def get_parts (lines):\n",
    "    map_list = ['seed-to-soil', 'soil-to-fertilizer','fertilizer-to-water', 'water-to-light','light-to-temperature','temperature-to-humidity', 'humidity-to-location']\n",
    "\n",
    "    index_list = []\n",
    "    for i in map_list:\n",
    "        index_list.extend([lines.index(i+' map:')])\n",
    "    index_list.extend([len(lines)+1])\n",
    "\n",
    "    parts = []\n",
    "    for i in range(0, len(index_list)-1):\n",
    "        parts.extend([lines[index_list[i]+1:index_list[i+1]-1]])\n",
    "    return parts"
   ]
  },
  {
   "cell_type": "code",
   "execution_count": 53,
   "metadata": {},
   "outputs": [],
   "source": [
    "def get_results (seeds, lines):\n",
    "    parts_base = get_parts(lines)\n",
    "    parts = [[find_number_in_string(l) for l in p]  for p in parts_base]\n",
    "    result = []\n",
    "    for seed in seeds:\n",
    "        result.append(for_each_seed(seed, parts))\n",
    "    return min(result)"
   ]
  },
  {
   "cell_type": "code",
   "execution_count": 54,
   "metadata": {},
   "outputs": [
    {
     "data": {
      "text/plain": [
       "35"
      ]
     },
     "execution_count": 54,
     "metadata": {},
     "output_type": "execute_result"
    }
   ],
   "source": [
    "lines = read_data ('day5_test1.txt')\n",
    "seeds = get_seeds(lines)\n",
    "get_results(seeds, lines)"
   ]
  },
  {
   "cell_type": "markdown",
   "metadata": {},
   "source": [
    "### ex2"
   ]
  },
  {
   "cell_type": "code",
   "execution_count": 56,
   "metadata": {},
   "outputs": [],
   "source": [
    "def get_new_seeds(lines):\n",
    "    seed = []\n",
    "    seed_list = find_number_in_string(lines[0])\n",
    "    for i in range(0, len(seed_list)-1):\n",
    "        if i%2 == 0:\n",
    "            current = seed_list[i]\n",
    "            while current < seed_list[i]+seed_list[i+1]:\n",
    "                yield current\n",
    "                current += 1\n",
    "        "
   ]
  },
  {
   "cell_type": "code",
   "execution_count": 57,
   "metadata": {},
   "outputs": [],
   "source": [
    "def get_results (seeds, lines):\n",
    "    parts_base = get_parts(lines)\n",
    "    parts = [[find_number_in_string(l) for l in p]  for p in parts_base]\n",
    "    result = []\n",
    "    minimum = for_each_seed(next(seeds), parts)\n",
    "    for seed in seeds:\n",
    "        s = for_each_seed(seed, parts)\n",
    "        if s < minimum:\n",
    "            minimum = s\n",
    "    return minimum"
   ]
  },
  {
   "cell_type": "code",
   "execution_count": 58,
   "metadata": {},
   "outputs": [
    {
     "data": {
      "text/plain": [
       "72263011"
      ]
     },
     "execution_count": 58,
     "metadata": {},
     "output_type": "execute_result"
    }
   ],
   "source": [
    "lines = read_data ('day5_ex1.txt')\n",
    "seeds = get_new_seeds(lines)\n",
    "get_results(seeds, lines)"
   ]
  },
  {
   "cell_type": "code",
   "execution_count": null,
   "metadata": {},
   "outputs": [],
   "source": []
  },
  {
   "cell_type": "code",
   "execution_count": null,
   "metadata": {},
   "outputs": [],
   "source": []
  },
  {
   "cell_type": "code",
   "execution_count": null,
   "metadata": {},
   "outputs": [],
   "source": []
  }
 ],
 "metadata": {
  "kernelspec": {
   "display_name": "cow_3_8",
   "language": "python",
   "name": "cow_3_8"
  },
  "language_info": {
   "codemirror_mode": {
    "name": "ipython",
    "version": 3
   },
   "file_extension": ".py",
   "mimetype": "text/x-python",
   "name": "python",
   "nbconvert_exporter": "python",
   "pygments_lexer": "ipython3",
   "version": "3.8.12"
  }
 },
 "nbformat": 4,
 "nbformat_minor": 4
}
